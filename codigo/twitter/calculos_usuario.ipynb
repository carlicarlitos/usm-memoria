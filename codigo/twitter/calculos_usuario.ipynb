{
 "cells": [
  {
   "cell_type": "markdown",
   "metadata": {},
   "source": [
    "# Estudio de cuentas de twitter\n",
    "\n",
    "En este notebook se estudiará las cuentas autores de los threads de estudio. Esta información se encuentra alojada en una base de datos local construida sobre mongoDB.\n",
    "\n",
    "Primero se calcula un valor que relaciona la cantidad de seguidores con la cantidad de seguidos, la cual se basará en la función sigmoidea.\n",
    "\n",
    "Luego de obtener un valor se observa el comportamiento del puntaje, primero graficando los valores obtenidos, luego graficando los valores obtenidos eliminando los 5, 10, 20 y 30 valores maximos."
   ]
  },
  {
   "cell_type": "code",
   "execution_count": 1,
   "metadata": {},
   "outputs": [],
   "source": [
    "import numpy as np\n",
    "import matplotlib\n",
    "import pandas as pd"
   ]
  },
  {
   "cell_type": "code",
   "execution_count": 2,
   "metadata": {},
   "outputs": [
    {
     "data": {
      "text/html": [
       "\n",
       "    <div class=\"bk-root\">\n",
       "        <a href=\"https://bokeh.pydata.org\" target=\"_blank\" class=\"bk-logo bk-logo-small bk-logo-notebook\"></a>\n",
       "        <span id=\"1001\">Loading BokehJS ...</span>\n",
       "    </div>"
      ]
     },
     "metadata": {},
     "output_type": "display_data"
    },
    {
     "data": {
      "application/javascript": [
       "\n",
       "(function(root) {\n",
       "  function now() {\n",
       "    return new Date();\n",
       "  }\n",
       "\n",
       "  var force = true;\n",
       "\n",
       "  if (typeof root._bokeh_onload_callbacks === \"undefined\" || force === true) {\n",
       "    root._bokeh_onload_callbacks = [];\n",
       "    root._bokeh_is_loading = undefined;\n",
       "  }\n",
       "\n",
       "  var JS_MIME_TYPE = 'application/javascript';\n",
       "  var HTML_MIME_TYPE = 'text/html';\n",
       "  var EXEC_MIME_TYPE = 'application/vnd.bokehjs_exec.v0+json';\n",
       "  var CLASS_NAME = 'output_bokeh rendered_html';\n",
       "\n",
       "  /**\n",
       "   * Render data to the DOM node\n",
       "   */\n",
       "  function render(props, node) {\n",
       "    var script = document.createElement(\"script\");\n",
       "    node.appendChild(script);\n",
       "  }\n",
       "\n",
       "  /**\n",
       "   * Handle when an output is cleared or removed\n",
       "   */\n",
       "  function handleClearOutput(event, handle) {\n",
       "    var cell = handle.cell;\n",
       "\n",
       "    var id = cell.output_area._bokeh_element_id;\n",
       "    var server_id = cell.output_area._bokeh_server_id;\n",
       "    // Clean up Bokeh references\n",
       "    if (id != null && id in Bokeh.index) {\n",
       "      Bokeh.index[id].model.document.clear();\n",
       "      delete Bokeh.index[id];\n",
       "    }\n",
       "\n",
       "    if (server_id !== undefined) {\n",
       "      // Clean up Bokeh references\n",
       "      var cmd = \"from bokeh.io.state import curstate; print(curstate().uuid_to_server['\" + server_id + \"'].get_sessions()[0].document.roots[0]._id)\";\n",
       "      cell.notebook.kernel.execute(cmd, {\n",
       "        iopub: {\n",
       "          output: function(msg) {\n",
       "            var id = msg.content.text.trim();\n",
       "            if (id in Bokeh.index) {\n",
       "              Bokeh.index[id].model.document.clear();\n",
       "              delete Bokeh.index[id];\n",
       "            }\n",
       "          }\n",
       "        }\n",
       "      });\n",
       "      // Destroy server and session\n",
       "      var cmd = \"import bokeh.io.notebook as ion; ion.destroy_server('\" + server_id + \"')\";\n",
       "      cell.notebook.kernel.execute(cmd);\n",
       "    }\n",
       "  }\n",
       "\n",
       "  /**\n",
       "   * Handle when a new output is added\n",
       "   */\n",
       "  function handleAddOutput(event, handle) {\n",
       "    var output_area = handle.output_area;\n",
       "    var output = handle.output;\n",
       "\n",
       "    // limit handleAddOutput to display_data with EXEC_MIME_TYPE content only\n",
       "    if ((output.output_type != \"display_data\") || (!output.data.hasOwnProperty(EXEC_MIME_TYPE))) {\n",
       "      return\n",
       "    }\n",
       "\n",
       "    var toinsert = output_area.element.find(\".\" + CLASS_NAME.split(' ')[0]);\n",
       "\n",
       "    if (output.metadata[EXEC_MIME_TYPE][\"id\"] !== undefined) {\n",
       "      toinsert[toinsert.length - 1].firstChild.textContent = output.data[JS_MIME_TYPE];\n",
       "      // store reference to embed id on output_area\n",
       "      output_area._bokeh_element_id = output.metadata[EXEC_MIME_TYPE][\"id\"];\n",
       "    }\n",
       "    if (output.metadata[EXEC_MIME_TYPE][\"server_id\"] !== undefined) {\n",
       "      var bk_div = document.createElement(\"div\");\n",
       "      bk_div.innerHTML = output.data[HTML_MIME_TYPE];\n",
       "      var script_attrs = bk_div.children[0].attributes;\n",
       "      for (var i = 0; i < script_attrs.length; i++) {\n",
       "        toinsert[toinsert.length - 1].firstChild.setAttribute(script_attrs[i].name, script_attrs[i].value);\n",
       "      }\n",
       "      // store reference to server id on output_area\n",
       "      output_area._bokeh_server_id = output.metadata[EXEC_MIME_TYPE][\"server_id\"];\n",
       "    }\n",
       "  }\n",
       "\n",
       "  function register_renderer(events, OutputArea) {\n",
       "\n",
       "    function append_mime(data, metadata, element) {\n",
       "      // create a DOM node to render to\n",
       "      var toinsert = this.create_output_subarea(\n",
       "        metadata,\n",
       "        CLASS_NAME,\n",
       "        EXEC_MIME_TYPE\n",
       "      );\n",
       "      this.keyboard_manager.register_events(toinsert);\n",
       "      // Render to node\n",
       "      var props = {data: data, metadata: metadata[EXEC_MIME_TYPE]};\n",
       "      render(props, toinsert[toinsert.length - 1]);\n",
       "      element.append(toinsert);\n",
       "      return toinsert\n",
       "    }\n",
       "\n",
       "    /* Handle when an output is cleared or removed */\n",
       "    events.on('clear_output.CodeCell', handleClearOutput);\n",
       "    events.on('delete.Cell', handleClearOutput);\n",
       "\n",
       "    /* Handle when a new output is added */\n",
       "    events.on('output_added.OutputArea', handleAddOutput);\n",
       "\n",
       "    /**\n",
       "     * Register the mime type and append_mime function with output_area\n",
       "     */\n",
       "    OutputArea.prototype.register_mime_type(EXEC_MIME_TYPE, append_mime, {\n",
       "      /* Is output safe? */\n",
       "      safe: true,\n",
       "      /* Index of renderer in `output_area.display_order` */\n",
       "      index: 0\n",
       "    });\n",
       "  }\n",
       "\n",
       "  // register the mime type if in Jupyter Notebook environment and previously unregistered\n",
       "  if (root.Jupyter !== undefined) {\n",
       "    var events = require('base/js/events');\n",
       "    var OutputArea = require('notebook/js/outputarea').OutputArea;\n",
       "\n",
       "    if (OutputArea.prototype.mime_types().indexOf(EXEC_MIME_TYPE) == -1) {\n",
       "      register_renderer(events, OutputArea);\n",
       "    }\n",
       "  }\n",
       "\n",
       "  \n",
       "  if (typeof (root._bokeh_timeout) === \"undefined\" || force === true) {\n",
       "    root._bokeh_timeout = Date.now() + 5000;\n",
       "    root._bokeh_failed_load = false;\n",
       "  }\n",
       "\n",
       "  var NB_LOAD_WARNING = {'data': {'text/html':\n",
       "     \"<div style='background-color: #fdd'>\\n\"+\n",
       "     \"<p>\\n\"+\n",
       "     \"BokehJS does not appear to have successfully loaded. If loading BokehJS from CDN, this \\n\"+\n",
       "     \"may be due to a slow or bad network connection. Possible fixes:\\n\"+\n",
       "     \"</p>\\n\"+\n",
       "     \"<ul>\\n\"+\n",
       "     \"<li>re-rerun `output_notebook()` to attempt to load from CDN again, or</li>\\n\"+\n",
       "     \"<li>use INLINE resources instead, as so:</li>\\n\"+\n",
       "     \"</ul>\\n\"+\n",
       "     \"<code>\\n\"+\n",
       "     \"from bokeh.resources import INLINE\\n\"+\n",
       "     \"output_notebook(resources=INLINE)\\n\"+\n",
       "     \"</code>\\n\"+\n",
       "     \"</div>\"}};\n",
       "\n",
       "  function display_loaded() {\n",
       "    var el = document.getElementById(\"1001\");\n",
       "    if (el != null) {\n",
       "      el.textContent = \"BokehJS is loading...\";\n",
       "    }\n",
       "    if (root.Bokeh !== undefined) {\n",
       "      if (el != null) {\n",
       "        el.textContent = \"BokehJS \" + root.Bokeh.version + \" successfully loaded.\";\n",
       "      }\n",
       "    } else if (Date.now() < root._bokeh_timeout) {\n",
       "      setTimeout(display_loaded, 100)\n",
       "    }\n",
       "  }\n",
       "\n",
       "\n",
       "  function run_callbacks() {\n",
       "    try {\n",
       "      root._bokeh_onload_callbacks.forEach(function(callback) {\n",
       "        if (callback != null)\n",
       "          callback();\n",
       "      });\n",
       "    } finally {\n",
       "      delete root._bokeh_onload_callbacks\n",
       "    }\n",
       "    console.debug(\"Bokeh: all callbacks have finished\");\n",
       "  }\n",
       "\n",
       "  function load_libs(css_urls, js_urls, callback) {\n",
       "    if (css_urls == null) css_urls = [];\n",
       "    if (js_urls == null) js_urls = [];\n",
       "\n",
       "    root._bokeh_onload_callbacks.push(callback);\n",
       "    if (root._bokeh_is_loading > 0) {\n",
       "      console.debug(\"Bokeh: BokehJS is being loaded, scheduling callback at\", now());\n",
       "      return null;\n",
       "    }\n",
       "    if (js_urls == null || js_urls.length === 0) {\n",
       "      run_callbacks();\n",
       "      return null;\n",
       "    }\n",
       "    console.debug(\"Bokeh: BokehJS not loaded, scheduling load and callback at\", now());\n",
       "    root._bokeh_is_loading = css_urls.length + js_urls.length;\n",
       "\n",
       "    function on_load() {\n",
       "      root._bokeh_is_loading--;\n",
       "      if (root._bokeh_is_loading === 0) {\n",
       "        console.debug(\"Bokeh: all BokehJS libraries/stylesheets loaded\");\n",
       "        run_callbacks()\n",
       "      }\n",
       "    }\n",
       "\n",
       "    function on_error() {\n",
       "      console.error(\"failed to load \" + url);\n",
       "    }\n",
       "\n",
       "    for (var i = 0; i < css_urls.length; i++) {\n",
       "      var url = css_urls[i];\n",
       "      const element = document.createElement(\"link\");\n",
       "      element.onload = on_load;\n",
       "      element.onerror = on_error;\n",
       "      element.rel = \"stylesheet\";\n",
       "      element.type = \"text/css\";\n",
       "      element.href = url;\n",
       "      console.debug(\"Bokeh: injecting link tag for BokehJS stylesheet: \", url);\n",
       "      document.body.appendChild(element);\n",
       "    }\n",
       "\n",
       "    for (var i = 0; i < js_urls.length; i++) {\n",
       "      var url = js_urls[i];\n",
       "      var element = document.createElement('script');\n",
       "      element.onload = on_load;\n",
       "      element.onerror = on_error;\n",
       "      element.async = false;\n",
       "      element.src = url;\n",
       "      console.debug(\"Bokeh: injecting script tag for BokehJS library: \", url);\n",
       "      document.head.appendChild(element);\n",
       "    }\n",
       "  };var element = document.getElementById(\"1001\");\n",
       "  if (element == null) {\n",
       "    console.error(\"Bokeh: ERROR: autoload.js configured with elementid '1001' but no matching script tag was found. \")\n",
       "    return false;\n",
       "  }\n",
       "\n",
       "  function inject_raw_css(css) {\n",
       "    const element = document.createElement(\"style\");\n",
       "    element.appendChild(document.createTextNode(css));\n",
       "    document.body.appendChild(element);\n",
       "  }\n",
       "\n",
       "  var js_urls = [\"https://cdn.pydata.org/bokeh/release/bokeh-1.1.0.min.js\", \"https://cdn.pydata.org/bokeh/release/bokeh-widgets-1.1.0.min.js\", \"https://cdn.pydata.org/bokeh/release/bokeh-tables-1.1.0.min.js\", \"https://cdn.pydata.org/bokeh/release/bokeh-gl-1.1.0.min.js\"];\n",
       "  var css_urls = [\"https://cdn.pydata.org/bokeh/release/bokeh-1.1.0.min.css\", \"https://cdn.pydata.org/bokeh/release/bokeh-widgets-1.1.0.min.css\", \"https://cdn.pydata.org/bokeh/release/bokeh-tables-1.1.0.min.css\"];\n",
       "\n",
       "  var inline_js = [\n",
       "    function(Bokeh) {\n",
       "      Bokeh.set_log_level(\"info\");\n",
       "    },\n",
       "    \n",
       "    function(Bokeh) {\n",
       "      \n",
       "    },\n",
       "    function(Bokeh) {} // ensure no trailing comma for IE\n",
       "  ];\n",
       "\n",
       "  function run_inline_js() {\n",
       "    \n",
       "    if ((root.Bokeh !== undefined) || (force === true)) {\n",
       "      for (var i = 0; i < inline_js.length; i++) {\n",
       "        inline_js[i].call(root, root.Bokeh);\n",
       "      }if (force === true) {\n",
       "        display_loaded();\n",
       "      }} else if (Date.now() < root._bokeh_timeout) {\n",
       "      setTimeout(run_inline_js, 100);\n",
       "    } else if (!root._bokeh_failed_load) {\n",
       "      console.log(\"Bokeh: BokehJS failed to load within specified timeout.\");\n",
       "      root._bokeh_failed_load = true;\n",
       "    } else if (force !== true) {\n",
       "      var cell = $(document.getElementById(\"1001\")).parents('.cell').data().cell;\n",
       "      cell.output_area.append_execute_result(NB_LOAD_WARNING)\n",
       "    }\n",
       "\n",
       "  }\n",
       "\n",
       "  if (root._bokeh_is_loading === 0) {\n",
       "    console.debug(\"Bokeh: BokehJS loaded, going straight to plotting\");\n",
       "    run_inline_js();\n",
       "  } else {\n",
       "    load_libs(css_urls, js_urls, function() {\n",
       "      console.debug(\"Bokeh: BokehJS plotting callback run at\", now());\n",
       "      run_inline_js();\n",
       "    });\n",
       "  }\n",
       "}(window));"
      ],
      "application/vnd.bokehjs_load.v0+json": "\n(function(root) {\n  function now() {\n    return new Date();\n  }\n\n  var force = true;\n\n  if (typeof root._bokeh_onload_callbacks === \"undefined\" || force === true) {\n    root._bokeh_onload_callbacks = [];\n    root._bokeh_is_loading = undefined;\n  }\n\n  \n\n  \n  if (typeof (root._bokeh_timeout) === \"undefined\" || force === true) {\n    root._bokeh_timeout = Date.now() + 5000;\n    root._bokeh_failed_load = false;\n  }\n\n  var NB_LOAD_WARNING = {'data': {'text/html':\n     \"<div style='background-color: #fdd'>\\n\"+\n     \"<p>\\n\"+\n     \"BokehJS does not appear to have successfully loaded. If loading BokehJS from CDN, this \\n\"+\n     \"may be due to a slow or bad network connection. Possible fixes:\\n\"+\n     \"</p>\\n\"+\n     \"<ul>\\n\"+\n     \"<li>re-rerun `output_notebook()` to attempt to load from CDN again, or</li>\\n\"+\n     \"<li>use INLINE resources instead, as so:</li>\\n\"+\n     \"</ul>\\n\"+\n     \"<code>\\n\"+\n     \"from bokeh.resources import INLINE\\n\"+\n     \"output_notebook(resources=INLINE)\\n\"+\n     \"</code>\\n\"+\n     \"</div>\"}};\n\n  function display_loaded() {\n    var el = document.getElementById(\"1001\");\n    if (el != null) {\n      el.textContent = \"BokehJS is loading...\";\n    }\n    if (root.Bokeh !== undefined) {\n      if (el != null) {\n        el.textContent = \"BokehJS \" + root.Bokeh.version + \" successfully loaded.\";\n      }\n    } else if (Date.now() < root._bokeh_timeout) {\n      setTimeout(display_loaded, 100)\n    }\n  }\n\n\n  function run_callbacks() {\n    try {\n      root._bokeh_onload_callbacks.forEach(function(callback) {\n        if (callback != null)\n          callback();\n      });\n    } finally {\n      delete root._bokeh_onload_callbacks\n    }\n    console.debug(\"Bokeh: all callbacks have finished\");\n  }\n\n  function load_libs(css_urls, js_urls, callback) {\n    if (css_urls == null) css_urls = [];\n    if (js_urls == null) js_urls = [];\n\n    root._bokeh_onload_callbacks.push(callback);\n    if (root._bokeh_is_loading > 0) {\n      console.debug(\"Bokeh: BokehJS is being loaded, scheduling callback at\", now());\n      return null;\n    }\n    if (js_urls == null || js_urls.length === 0) {\n      run_callbacks();\n      return null;\n    }\n    console.debug(\"Bokeh: BokehJS not loaded, scheduling load and callback at\", now());\n    root._bokeh_is_loading = css_urls.length + js_urls.length;\n\n    function on_load() {\n      root._bokeh_is_loading--;\n      if (root._bokeh_is_loading === 0) {\n        console.debug(\"Bokeh: all BokehJS libraries/stylesheets loaded\");\n        run_callbacks()\n      }\n    }\n\n    function on_error() {\n      console.error(\"failed to load \" + url);\n    }\n\n    for (var i = 0; i < css_urls.length; i++) {\n      var url = css_urls[i];\n      const element = document.createElement(\"link\");\n      element.onload = on_load;\n      element.onerror = on_error;\n      element.rel = \"stylesheet\";\n      element.type = \"text/css\";\n      element.href = url;\n      console.debug(\"Bokeh: injecting link tag for BokehJS stylesheet: \", url);\n      document.body.appendChild(element);\n    }\n\n    for (var i = 0; i < js_urls.length; i++) {\n      var url = js_urls[i];\n      var element = document.createElement('script');\n      element.onload = on_load;\n      element.onerror = on_error;\n      element.async = false;\n      element.src = url;\n      console.debug(\"Bokeh: injecting script tag for BokehJS library: \", url);\n      document.head.appendChild(element);\n    }\n  };var element = document.getElementById(\"1001\");\n  if (element == null) {\n    console.error(\"Bokeh: ERROR: autoload.js configured with elementid '1001' but no matching script tag was found. \")\n    return false;\n  }\n\n  function inject_raw_css(css) {\n    const element = document.createElement(\"style\");\n    element.appendChild(document.createTextNode(css));\n    document.body.appendChild(element);\n  }\n\n  var js_urls = [\"https://cdn.pydata.org/bokeh/release/bokeh-1.1.0.min.js\", \"https://cdn.pydata.org/bokeh/release/bokeh-widgets-1.1.0.min.js\", \"https://cdn.pydata.org/bokeh/release/bokeh-tables-1.1.0.min.js\", \"https://cdn.pydata.org/bokeh/release/bokeh-gl-1.1.0.min.js\"];\n  var css_urls = [\"https://cdn.pydata.org/bokeh/release/bokeh-1.1.0.min.css\", \"https://cdn.pydata.org/bokeh/release/bokeh-widgets-1.1.0.min.css\", \"https://cdn.pydata.org/bokeh/release/bokeh-tables-1.1.0.min.css\"];\n\n  var inline_js = [\n    function(Bokeh) {\n      Bokeh.set_log_level(\"info\");\n    },\n    \n    function(Bokeh) {\n      \n    },\n    function(Bokeh) {} // ensure no trailing comma for IE\n  ];\n\n  function run_inline_js() {\n    \n    if ((root.Bokeh !== undefined) || (force === true)) {\n      for (var i = 0; i < inline_js.length; i++) {\n        inline_js[i].call(root, root.Bokeh);\n      }if (force === true) {\n        display_loaded();\n      }} else if (Date.now() < root._bokeh_timeout) {\n      setTimeout(run_inline_js, 100);\n    } else if (!root._bokeh_failed_load) {\n      console.log(\"Bokeh: BokehJS failed to load within specified timeout.\");\n      root._bokeh_failed_load = true;\n    } else if (force !== true) {\n      var cell = $(document.getElementById(\"1001\")).parents('.cell').data().cell;\n      cell.output_area.append_execute_result(NB_LOAD_WARNING)\n    }\n\n  }\n\n  if (root._bokeh_is_loading === 0) {\n    console.debug(\"Bokeh: BokehJS loaded, going straight to plotting\");\n    run_inline_js();\n  } else {\n    load_libs(css_urls, js_urls, function() {\n      console.debug(\"Bokeh: BokehJS plotting callback run at\", now());\n      run_inline_js();\n    });\n  }\n}(window));"
     },
     "metadata": {},
     "output_type": "display_data"
    }
   ],
   "source": [
    "from bokeh.io import output_notebook, show\n",
    "from bokeh.plotting import figure\n",
    "from bokeh.models import Span\n",
    "\n",
    "output_notebook()"
   ]
  },
  {
   "cell_type": "code",
   "execution_count": 3,
   "metadata": {},
   "outputs": [],
   "source": [
    "import pymongo\n",
    "from twython import Twython\n",
    "import pandas as pd\n",
    "#conexion mongo\n",
    "myclient = pymongo.MongoClient(\"mongodb://localhost:27017/\")\n",
    "mydb = myclient[\"twitter-memoria\"]\n",
    "coleccion_completa = mydb[\"csv_all\"]\n",
    "bd_usuarios = mydb[\"usuarios\"]\n",
    "\n",
    "\n",
    "#obtener llaves Twitter\n",
    "llaves_bd = mydb[\"llaves\"]\n",
    "llaves = llaves_bd.find_one()\n",
    "\n",
    "APP_KEY = llaves[\"API_KEY\"]\n",
    "ACCESS_TOKEN  = llaves[\"ACCESS_TOKEN_T\"]\n",
    "twitter       = Twython(APP_KEY, access_token=ACCESS_TOKEN)\n"
   ]
  },
  {
   "cell_type": "code",
   "execution_count": 4,
   "metadata": {
    "scrolled": true
   },
   "outputs": [],
   "source": [
    "usuarios = bd_usuarios.find({})\n",
    "puntaje_por_id = {}\n",
    "lista_usuarios = []\n",
    "lista_puntajes_unicos = []\n",
    "lista_puntajes_usuario = []\n",
    "lista_cant_tweets = []\n",
    "lista_punt_2 = []\n",
    "\n",
    "for usuario in usuarios:\n",
    "    puntaje_aux = 0\n",
    "    puntaje_aux_2 = 0\n",
    "    userid = usuario[\"id\"]\n",
    "    seguidores = usuario[\"followers_count\"] + 1\n",
    "    amigos = usuario[\"friends_count\"] + 1\n",
    "    estados = usuario[\"statuses_count\"] + 1\n",
    "    #puntaje_aux = ((seguidores-amigos)/(seguidores+amigos-abs(seguidores-amigos)))\n",
    "    puntaje_aux = (np.log10(1+seguidores))/(1+np.log10(1+amigos))\n",
    "    puntaje_aux_2 = puntaje_aux*estados\n",
    "    puntaje_por_id[userid] = puntaje_aux\n",
    "    lista_puntajes_usuario.append(puntaje_aux)\n",
    "    lista_usuarios.append(userid)\n",
    "    lista_cant_tweets.append(estados)\n",
    "    lista_punt_2.append(puntaje_aux_2)\n",
    "    if puntaje_aux not in lista_puntajes_unicos:\n",
    "        lista_puntajes_unicos.append(puntaje_aux)\n"
   ]
  },
  {
   "cell_type": "code",
   "execution_count": 5,
   "metadata": {
    "scrolled": true
   },
   "outputs": [
    {
     "name": "stdout",
     "output_type": "stream",
     "text": [
      "265\n",
      "265\n"
     ]
    }
   ],
   "source": [
    "print(len(lista_puntajes_usuario))\n",
    "print(len(lista_puntajes_unicos))"
   ]
  },
  {
   "cell_type": "code",
   "execution_count": 6,
   "metadata": {},
   "outputs": [
    {
     "data": {
      "text/html": [
       "<div>\n",
       "<style scoped>\n",
       "    .dataframe tbody tr th:only-of-type {\n",
       "        vertical-align: middle;\n",
       "    }\n",
       "\n",
       "    .dataframe tbody tr th {\n",
       "        vertical-align: top;\n",
       "    }\n",
       "\n",
       "    .dataframe thead th {\n",
       "        text-align: right;\n",
       "    }\n",
       "</style>\n",
       "<table border=\"1\" class=\"dataframe\">\n",
       "  <thead>\n",
       "    <tr style=\"text-align: right;\">\n",
       "      <th></th>\n",
       "      <th>puntaje</th>\n",
       "      <th>user_id</th>\n",
       "    </tr>\n",
       "  </thead>\n",
       "  <tbody>\n",
       "    <tr>\n",
       "      <th>0</th>\n",
       "      <td>1.045443</td>\n",
       "      <td>3311036150</td>\n",
       "    </tr>\n",
       "    <tr>\n",
       "      <th>1</th>\n",
       "      <td>0.951682</td>\n",
       "      <td>938139949710405633</td>\n",
       "    </tr>\n",
       "    <tr>\n",
       "      <th>2</th>\n",
       "      <td>1.003695</td>\n",
       "      <td>857087659008815105</td>\n",
       "    </tr>\n",
       "    <tr>\n",
       "      <th>3</th>\n",
       "      <td>1.236293</td>\n",
       "      <td>305073570</td>\n",
       "    </tr>\n",
       "    <tr>\n",
       "      <th>4</th>\n",
       "      <td>0.714612</td>\n",
       "      <td>856850515</td>\n",
       "    </tr>\n",
       "  </tbody>\n",
       "</table>\n",
       "</div>"
      ],
      "text/plain": [
       "    puntaje             user_id\n",
       "0  1.045443          3311036150\n",
       "1  0.951682  938139949710405633\n",
       "2  1.003695  857087659008815105\n",
       "3  1.236293           305073570\n",
       "4  0.714612           856850515"
      ]
     },
     "execution_count": 6,
     "metadata": {},
     "output_type": "execute_result"
    }
   ],
   "source": [
    "df_puntajes = pd.DataFrame.from_dict(puntaje_por_id, orient='index', columns=['puntaje'])\n",
    "df_puntajes[\"user_id\"] = df_puntajes.index\n",
    "df_puntajes = df_puntajes.reset_index(drop=True)\n",
    "df_puntajes.head()"
   ]
  },
  {
   "cell_type": "code",
   "execution_count": 14,
   "metadata": {
    "scrolled": true
   },
   "outputs": [
    {
     "data": {
      "text/plain": [
       "<matplotlib.axes._subplots.AxesSubplot at 0x2c2bc51ba20>"
      ]
     },
     "execution_count": 14,
     "metadata": {},
     "output_type": "execute_result"
    },
    {
     "data": {
      "image/png": "[encoded data removed]",
      "text/plain": [
       "<Figure size 432x288 with 1 Axes>"
      ]
     },
     "metadata": {
      "needs_background": "light"
     },
     "output_type": "display_data"
    }
   ],
   "source": [
    "df_puntajes.boxplot(column = \"puntaje\")"
   ]
  },
  {
   "cell_type": "code",
   "execution_count": 8,
   "metadata": {
    "scrolled": false
   },
   "outputs": [
    {
     "data": {
      "text/html": [
       "\n",
       "\n",
       "\n",
       "\n",
       "\n",
       "\n",
       "  <div class=\"bk-root\" id=\"af54e5f2-a65e-4a7f-b968-8055a614a901\" data-root-id=\"1002\"></div>\n"
      ]
     },
     "metadata": {},
     "output_type": "display_data"
    },
    {
     "data": {
      "application/javascript": [
       "(function(root) {\n",
       "  function embed_document(root) {\n",
       "    \n",
       "  var docs_json = {\"70c9b79d-81ed-4444-83ff-6be4590349e7\":{\"roots\":{\"references\":[{\"attributes\":{\"background_fill_color\":{\"value\":\"#f2f3f7\"},\"below\":[{\"id\":\"1013\",\"type\":\"LinearAxis\"}],\"center\":[{\"id\":\"1017\",\"type\":\"Grid\"},{\"id\":\"1022\",\"type\":\"Grid\"},{\"id\":\"1047\",\"type\":\"Legend\"}],\"left\":[{\"id\":\"1018\",\"type\":\"LinearAxis\"}],\"plot_height\":350,\"plot_width\":700,\"renderers\":[{\"id\":\"1039\",\"type\":\"GlyphRenderer\"}],\"title\":{\"id\":\"1003\",\"type\":\"Title\"},\"toolbar\":{\"id\":\"1029\",\"type\":\"Toolbar\"},\"x_range\":{\"id\":\"1005\",\"type\":\"DataRange1d\"},\"x_scale\":{\"id\":\"1009\",\"type\":\"LinearScale\"},\"y_range\":{\"id\":\"1007\",\"type\":\"DataRange1d\"},\"y_scale\":{\"id\":\"1011\",\"type\":\"LinearScale\"}},\"id\":\"1002\",\"subtype\":\"Figure\",\"type\":\"Plot\"},{\"attributes\":{\"label\":{\"value\":\"Puntaje\"},\"renderers\":[{\"id\":\"1039\",\"type\":\"GlyphRenderer\"}]},\"id\":\"1048\",\"type\":\"LegendItem\"},{\"attributes\":{},\"id\":\"1044\",\"type\":\"BasicTickFormatter\"},{\"attributes\":{\"axis_label\":\"puntaje\",\"formatter\":{\"id\":\"1042\",\"type\":\"BasicTickFormatter\"},\"ticker\":{\"id\":\"1019\",\"type\":\"BasicTicker\"}},\"id\":\"1018\",\"type\":\"LinearAxis\"},{\"attributes\":{\"items\":[{\"id\":\"1048\",\"type\":\"LegendItem\"}]},\"id\":\"1047\",\"type\":\"Legend\"},{\"attributes\":{\"callback\":null},\"id\":\"1005\",\"type\":\"DataRange1d\"},{\"attributes\":{},\"id\":\"1019\",\"type\":\"BasicTicker\"},{\"attributes\":{\"bottom_units\":\"screen\",\"fill_alpha\":{\"value\":0.5},\"fill_color\":{\"value\":\"lightgrey\"},\"left_units\":\"screen\",\"level\":\"overlay\",\"line_alpha\":{\"value\":1.0},\"line_color\":{\"value\":\"black\"},\"line_dash\":[4,4],\"line_width\":{\"value\":2},\"render_mode\":\"css\",\"right_units\":\"screen\",\"top_units\":\"screen\"},\"id\":\"1046\",\"type\":\"BoxAnnotation\"},{\"attributes\":{\"dimension\":1,\"ticker\":{\"id\":\"1019\",\"type\":\"BasicTicker\"}},\"id\":\"1022\",\"type\":\"Grid\"},{\"attributes\":{\"line_color\":\"#cd2626\",\"x\":{\"field\":\"x\"},\"y\":{\"field\":\"y\"}},\"id\":\"1037\",\"type\":\"Line\"},{\"attributes\":{\"active_drag\":\"auto\",\"active_inspect\":\"auto\",\"active_multi\":null,\"active_scroll\":\"auto\",\"active_tap\":\"auto\",\"tools\":[{\"id\":\"1023\",\"type\":\"PanTool\"},{\"id\":\"1024\",\"type\":\"WheelZoomTool\"},{\"id\":\"1025\",\"type\":\"BoxZoomTool\"},{\"id\":\"1026\",\"type\":\"SaveTool\"},{\"id\":\"1027\",\"type\":\"ResetTool\"},{\"id\":\"1028\",\"type\":\"HelpTool\"}]},\"id\":\"1029\",\"type\":\"Toolbar\"},{\"attributes\":{},\"id\":\"1054\",\"type\":\"Selection\"},{\"attributes\":{\"data_source\":{\"id\":\"1036\",\"type\":\"ColumnDataSource\"},\"glyph\":{\"id\":\"1037\",\"type\":\"Line\"},\"hover_glyph\":null,\"muted_glyph\":null,\"nonselection_glyph\":{\"id\":\"1038\",\"type\":\"Line\"},\"selection_glyph\":null,\"view\":{\"id\":\"1040\",\"type\":\"CDSView\"}},\"id\":\"1039\",\"type\":\"GlyphRenderer\"},{\"attributes\":{\"source\":{\"id\":\"1036\",\"type\":\"ColumnDataSource\"}},\"id\":\"1040\",\"type\":\"CDSView\"},{\"attributes\":{},\"id\":\"1023\",\"type\":\"PanTool\"},{\"attributes\":{},\"id\":\"1024\",\"type\":\"WheelZoomTool\"},{\"attributes\":{},\"id\":\"1042\",\"type\":\"BasicTickFormatter\"},{\"attributes\":{\"overlay\":{\"id\":\"1046\",\"type\":\"BoxAnnotation\"}},\"id\":\"1025\",\"type\":\"BoxZoomTool\"},{\"attributes\":{},\"id\":\"1026\",\"type\":\"SaveTool\"},{\"attributes\":{\"callback\":null,\"data\":{\"x\":[0,1,2,3,4,5,6,7,8,9,10,11,12,13,14,15,16,17,18,19,20,21,22,23,24,25,26,27,28,29,30,31,32,33,34,35,36,37,38,39,40,41,42,43,44,45,46,47,48,49,50,51,52,53,54,55,56,57,58,59,60,61,62,63,64,65,66,67,68,69,70,71,72,73,74,75,76,77,78,79,80,81,82,83,84,85,86,87,88,89,90,91,92,93,94,95,96,97,98,99,100,101,102,103,104,105,106,107,108,109,110,111,112,113,114,115,116,117,118,119,120,121,122,123,124,125,126,127,128,129,130,131,132,133,134,135,136,137,138,139,140,141,142,143,144,145,146,147,148,149,150,151,152,153,154,155,156,157,158,159,160,161,162,163,164,165,166,167,168,169,170,171,172,173,174,175,176,177,178,179,180,181,182,183,184,185,186,187,188,189,190,191,192,193,194,195,196,197,198,199,200,201,202,203,204,205,206,207,208,209,210,211,212,213,214,215,216,217,218,219,220,221,222,223,224,225,226,227,228,229,230,231,232,233,234,235,236,237,238,239,240,241,242,243,244,245,246,247,248,249,250,251,252,253,254,255,256,257,258,259,260,261,262,263,264],\"y\":[1.0454433823489448,0.9516823993417808,1.0036946618370128,1.2362933107117389,0.7146120163501791,1.1792779741811088,1.0584329293198982,1.0023838791552284,0.8189877167444819,2.2485292376745405,0.7841315509633824,1.3551897619197097,0.7910941051462765,0.7847449909851424,0.993368243125178,1.1092668447949414,0.8916281169329755,0.8350214043846427,0.8514579267155054,0.98198903749318,1.089571887939791,0.994767262423382,0.8419764756369659,1.0686355293572398,1.185662568711961,0.6938422164693345,0.81710604580178,1.2750198923263765,1.0947137443555073,0.8934155142971161,0.9613612607244385,1.0775182896623126,0.8358251062497245,0.8244295585349466,0.7420107282967295,1.0856082975232073,3.0671637601169066,1.0855500746761417,2.1165393721441927,1.045470171622928,0.7737163440973392,0.7652297261739069,0.7985659020053845,0.8145857612305796,1.304938961489307,1.4045741441654203,0.8299125144668693,0.7569940129990357,1.1548941355893412,0.7780763645640805,1.0099602834980868,1.223595844761429,0.8570538888264998,0.8570540014781857,1.0169154597538348,1.305740761832073,1.3023073784238826,0.922002109743226,0.9102594883292808,1.232276169490833,0.7743234259895486,1.0253294057314375,0.8594951870190578,1.094997967782098,0.8235150345120746,0.9941602233494818,1.4879608743088246,0.9418324460170847,0.8776546622590689,1.0343582498817083,1.0451030127734493,1.1151919542050102,2.0736477621069342,1.550127327832288,1.00657717490801,1.033211689697381,1.0492996183153394,0.8545702884147423,1.056749707049056,0.8063351140523863,0.9464288061383587,1.0292068234452811,1.0059948938812666,0.8720983486085813,1.21622557892161,0.8312261828888331,0.7841032485074763,0.749794113736607,0.7873433549216317,0.8112531258742014,0.7994494506961062,0.8797668140565025,0.9595459609621377,0.6444626889088418,0.9170845186648956,3.2161733866263496,0.7915099941593982,0.9228059389384303,0.8043585149272172,1.1950112447486707,1.0443850743440903,0.9292142726281132,0.7251466434506837,0.7980207228530959,0.8265311340254484,1.1605608522279727,1.4172189073236072,0.7840729063534642,0.9573526535769848,0.9237519523908567,0.8941024335404804,0.7976285219325048,1.2903410126216892,0.9094581495827089,0.7465220771040832,0.9785419193317092,0.8130463089282335,0.9627939065040201,0.7914050709108833,0.7841021470345688,0.7234581656116824,0.8009890936888389,0.8337270723912311,0.8141307419548324,0.6344913387988677,0.7990523712293431,1.0374383428785645,0.656209049971686,1.4196985791281915,1.2574903762655487,1.1438926493765469,0.9615184058334372,0.899467653967902,0.9180219423717151,1.3339137352950252,1.2778655208359107,0.7858397106672204,0.7671215513288029,0.823857924320255,0.8671750054679278,0.9561558833484382,0.8522847214566034,0.7928515217854114,1.183664479826878,0.9806779264916682,0.8395871980777732,0.7315906842090686,1.4227750717194954,3.131653611411108,0.899828378796499,0.9393706893212506,1.0412239532216836,1.6028487769648845,0.7675860281451193,0.9138622148689374,1.049962125728628,1.2291185880979165,1.0171303742712965,0.8801198498472544,1.127875487472484,1.053884019046618,1.3405059493553508,1.3095319116677056,1.1453485453044194,1.2422099985562307,1.3170064977519242,0.7410160166312332,1.1008468194735719,1.0894408233387778,1.1621341894399821,0.9163856494828398,1.2442934569989936,1.0116144146735293,1.0185390948837618,0.7371417076452633,0.7909382135079939,0.9724187471737888,1.0274307008718777,1.265898042004367,2.942939957139561,1.1925068912359547,1.622760106341778,0.8078889214576164,0.7948395313763519,1.154941014918341,1.1895020535617804,0.8472330736405917,0.8216511492957574,0.822621817939136,0.8419437427588047,1.0032429610485663,1.0038270505276308,0.8144879731343446,0.728883197628901,0.9964505847790763,1.0328444112034887,0.9168839022380679,1.1775914674558483,0.9026813658485082,1.1802400580149184,0.9001432285858809,0.7207544808427918,1.1598597647613123,1.1653499025841754,0.8313114000467067,0.9537763704111462,0.9026846840224013,1.0382241350750119,1.2772961935208405,1.3948107449654445,0.8450453908740074,1.01634099978194,0.8665091738930693,0.848071129741247,0.8978258618675687,1.4744800819087855,1.0538345427692097,0.9109504918806629,0.8668064346326632,0.9585790249392142,0.8256194306864437,1.2935337478437388,1.183576931065147,0.8212817215542154,0.8705146327095418,0.9050587029811515,0.9384282038142314,1.2214337836543825,1.014253682333547,0.9095466288782286,1.1735441135304734,0.8853743861556029,1.128288239961004,1.0803949096186731,1.2493575215839214,0.9914800679098149,1.0777853804111737,0.8841133892694526,0.9311780732310309,1.2208371674300489,0.6325809439735476,0.7386322557905761,0.84784404195464,1.1030813906130543,1.0273088481881942,1.4010357899076964,1.0343607497665464,0.8037907828164512,0.7459051534945617,1.2080842216484482,1.3259430523178954,0.7919717091618992,1.034770409878781,1.214306874582458,0.8761792652754368,0.8091306489406593,1.1041053435680903,1.150779875267587,1.57204721016113,1.1003647585533014,0.9069264970964261,2.8461028854105908,1.2183360349017927,0.9498124132520916,1.1105620153788522]},\"selected\":{\"id\":\"1054\",\"type\":\"Selection\"},\"selection_policy\":{\"id\":\"1055\",\"type\":\"UnionRenderers\"}},\"id\":\"1036\",\"type\":\"ColumnDataSource\"},{\"attributes\":{},\"id\":\"1027\",\"type\":\"ResetTool\"},{\"attributes\":{\"text\":\"puntajes unicos\"},\"id\":\"1003\",\"type\":\"Title\"},{\"attributes\":{},\"id\":\"1014\",\"type\":\"BasicTicker\"},{\"attributes\":{},\"id\":\"1028\",\"type\":\"HelpTool\"},{\"attributes\":{\"callback\":null},\"id\":\"1007\",\"type\":\"DataRange1d\"},{\"attributes\":{},\"id\":\"1009\",\"type\":\"LinearScale\"},{\"attributes\":{},\"id\":\"1055\",\"type\":\"UnionRenderers\"},{\"attributes\":{},\"id\":\"1011\",\"type\":\"LinearScale\"},{\"attributes\":{\"formatter\":{\"id\":\"1044\",\"type\":\"BasicTickFormatter\"},\"ticker\":{\"id\":\"1014\",\"type\":\"BasicTicker\"}},\"id\":\"1013\",\"type\":\"LinearAxis\"},{\"attributes\":{\"line_alpha\":0.1,\"line_color\":\"#1f77b4\",\"x\":{\"field\":\"x\"},\"y\":{\"field\":\"y\"}},\"id\":\"1038\",\"type\":\"Line\"},{\"attributes\":{\"ticker\":{\"id\":\"1014\",\"type\":\"BasicTicker\"}},\"id\":\"1017\",\"type\":\"Grid\"}],\"root_ids\":[\"1002\"]},\"title\":\"Bokeh Application\",\"version\":\"1.1.0\"}};\n",
       "  var render_items = [{\"docid\":\"70c9b79d-81ed-4444-83ff-6be4590349e7\",\"roots\":{\"1002\":\"af54e5f2-a65e-4a7f-b968-8055a614a901\"}}];\n",
       "  root.Bokeh.embed.embed_items_notebook(docs_json, render_items);\n",
       "\n",
       "  }\n",
       "  if (root.Bokeh !== undefined) {\n",
       "    embed_document(root);\n",
       "  } else {\n",
       "    var attempts = 0;\n",
       "    var timer = setInterval(function(root) {\n",
       "      if (root.Bokeh !== undefined) {\n",
       "        embed_document(root);\n",
       "        clearInterval(timer);\n",
       "      }\n",
       "      attempts++;\n",
       "      if (attempts > 100) {\n",
       "        console.log(\"Bokeh: ERROR: Unable to run BokehJS code because BokehJS library is missing\");\n",
       "        clearInterval(timer);\n",
       "      }\n",
       "    }, 10, root)\n",
       "  }\n",
       "})(window);"
      ],
      "application/vnd.bokehjs_exec.v0+json": ""
     },
     "metadata": {
      "application/vnd.bokehjs_exec.v0+json": {
       "id": "1002"
      }
     },
     "output_type": "display_data"
    }
   ],
   "source": [
    "grafico = figure(plot_width=700, \n",
    "           plot_height=350, \n",
    "           title='puntajes unicos', \n",
    "           background_fill_color=\"#f2f3f7\", \n",
    "           y_axis_label='puntaje')\n",
    "\n",
    "grafico.line(list(range(0,len(lista_puntajes_unicos))), lista_puntajes_unicos,line_color='#cd2626', legend='Puntaje')\n",
    "\n",
    "\n",
    "show(grafico)"
   ]
  },
  {
   "cell_type": "code",
   "execution_count": 9,
   "metadata": {},
   "outputs": [
    {
     "data": {
      "text/html": [
       "\n",
       "\n",
       "\n",
       "\n",
       "\n",
       "\n",
       "  <div class=\"bk-root\" id=\"0645434a-95bf-4e02-a222-496c97f969a1\" data-root-id=\"1105\"></div>\n"
      ]
     },
     "metadata": {},
     "output_type": "display_data"
    },
    {
     "data": {
      "application/javascript": [
       "(function(root) {\n",
       "  function embed_document(root) {\n",
       "    \n",
       "  var docs_json = {\"706272ca-676b-43c9-8eba-9040e0d97f30\":{\"roots\":{\"references\":[{\"attributes\":{\"background_fill_color\":{\"value\":\"#f2f3f7\"},\"below\":[{\"id\":\"1116\",\"type\":\"LinearAxis\"}],\"center\":[{\"id\":\"1120\",\"type\":\"Grid\"},{\"id\":\"1125\",\"type\":\"Grid\"},{\"id\":\"1150\",\"type\":\"Legend\"}],\"left\":[{\"id\":\"1121\",\"type\":\"LinearAxis\"}],\"plot_height\":350,\"plot_width\":700,\"renderers\":[{\"id\":\"1142\",\"type\":\"GlyphRenderer\"}],\"title\":{\"id\":\"1106\",\"type\":\"Title\"},\"toolbar\":{\"id\":\"1132\",\"type\":\"Toolbar\"},\"x_range\":{\"id\":\"1108\",\"type\":\"DataRange1d\"},\"x_scale\":{\"id\":\"1112\",\"type\":\"LinearScale\"},\"y_range\":{\"id\":\"1110\",\"type\":\"DataRange1d\"},\"y_scale\":{\"id\":\"1114\",\"type\":\"LinearScale\"}},\"id\":\"1105\",\"subtype\":\"Figure\",\"type\":\"Plot\"},{\"attributes\":{},\"id\":\"1126\",\"type\":\"PanTool\"},{\"attributes\":{\"ticker\":{\"id\":\"1117\",\"type\":\"BasicTicker\"}},\"id\":\"1120\",\"type\":\"Grid\"},{\"attributes\":{\"label\":{\"value\":\"Puntaje\"},\"renderers\":[{\"id\":\"1142\",\"type\":\"GlyphRenderer\"}]},\"id\":\"1151\",\"type\":\"LegendItem\"},{\"attributes\":{},\"id\":\"1130\",\"type\":\"ResetTool\"},{\"attributes\":{\"overlay\":{\"id\":\"1149\",\"type\":\"BoxAnnotation\"}},\"id\":\"1128\",\"type\":\"BoxZoomTool\"},{\"attributes\":{\"axis_label\":\"puntaje\",\"formatter\":{\"id\":\"1145\",\"type\":\"BasicTickFormatter\"},\"ticker\":{\"id\":\"1122\",\"type\":\"BasicTicker\"}},\"id\":\"1121\",\"type\":\"LinearAxis\"},{\"attributes\":{},\"id\":\"1165\",\"type\":\"Selection\"},{\"attributes\":{},\"id\":\"1129\",\"type\":\"SaveTool\"},{\"attributes\":{\"callback\":null},\"id\":\"1108\",\"type\":\"DataRange1d\"},{\"attributes\":{},\"id\":\"1131\",\"type\":\"HelpTool\"},{\"attributes\":{},\"id\":\"1166\",\"type\":\"UnionRenderers\"},{\"attributes\":{\"dimension\":1,\"ticker\":{\"id\":\"1122\",\"type\":\"BasicTicker\"}},\"id\":\"1125\",\"type\":\"Grid\"},{\"attributes\":{\"line_color\":\"#cd2626\",\"x\":{\"field\":\"x\"},\"y\":{\"field\":\"y\"}},\"id\":\"1140\",\"type\":\"Line\"},{\"attributes\":{\"data_source\":{\"id\":\"1139\",\"type\":\"ColumnDataSource\"},\"glyph\":{\"id\":\"1140\",\"type\":\"Line\"},\"hover_glyph\":null,\"muted_glyph\":null,\"nonselection_glyph\":{\"id\":\"1141\",\"type\":\"Line\"},\"selection_glyph\":null,\"view\":{\"id\":\"1143\",\"type\":\"CDSView\"}},\"id\":\"1142\",\"type\":\"GlyphRenderer\"},{\"attributes\":{\"active_drag\":\"auto\",\"active_inspect\":\"auto\",\"active_multi\":null,\"active_scroll\":\"auto\",\"active_tap\":\"auto\",\"tools\":[{\"id\":\"1126\",\"type\":\"PanTool\"},{\"id\":\"1127\",\"type\":\"WheelZoomTool\"},{\"id\":\"1128\",\"type\":\"BoxZoomTool\"},{\"id\":\"1129\",\"type\":\"SaveTool\"},{\"id\":\"1130\",\"type\":\"ResetTool\"},{\"id\":\"1131\",\"type\":\"HelpTool\"}]},\"id\":\"1132\",\"type\":\"Toolbar\"},{\"attributes\":{\"line_alpha\":0.1,\"line_color\":\"#1f77b4\",\"x\":{\"field\":\"x\"},\"y\":{\"field\":\"y\"}},\"id\":\"1141\",\"type\":\"Line\"},{\"attributes\":{\"source\":{\"id\":\"1139\",\"type\":\"ColumnDataSource\"}},\"id\":\"1143\",\"type\":\"CDSView\"},{\"attributes\":{\"text\":\"puntajes unicos menos 5 maximos\"},\"id\":\"1106\",\"type\":\"Title\"},{\"attributes\":{},\"id\":\"1112\",\"type\":\"LinearScale\"},{\"attributes\":{\"callback\":null,\"data\":{\"x\":[0,1,2,3,4,5,6,7,8,9,10,11,12,13,14,15,16,17,18,19,20,21,22,23,24,25,26,27,28,29,30,31,32,33,34,35,36,37,38,39,40,41,42,43,44,45,46,47,48,49,50,51,52,53,54,55,56,57,58,59,60,61,62,63,64,65,66,67,68,69,70,71,72,73,74,75,76,77,78,79,80,81,82,83,84,85,86,87,88,89,90,91,92,93,94,95,96,97,98,99,100,101,102,103,104,105,106,107,108,109,110,111,112,113,114,115,116,117,118,119,120,121,122,123,124,125,126,127,128,129,130,131,132,133,134,135,136,137,138,139,140,141,142,143,144,145,146,147,148,149,150,151,152,153,154,155,156,157,158,159,160,161,162,163,164,165,166,167,168,169,170,171,172,173,174,175,176,177,178,179,180,181,182,183,184,185,186,187,188,189,190,191,192,193,194,195,196,197,198,199,200,201,202,203,204,205,206,207,208,209,210,211,212,213,214,215,216,217,218,219,220,221,222,223,224,225,226,227,228,229,230,231,232,233,234,235,236,237,238,239,240,241,242,243,244,245,246,247,248,249,250,251,252,253,254,255,256,257,258,259,260],\"y\":[1.0454433823489448,0.9516823993417808,1.0036946618370128,1.2362933107117389,0.7146120163501791,1.1792779741811088,1.0584329293198982,1.0023838791552284,0.8189877167444819,2.2485292376745405,0.7841315509633824,1.3551897619197097,0.7910941051462765,0.7847449909851424,0.993368243125178,1.1092668447949414,0.8916281169329755,0.8350214043846427,0.8514579267155054,0.98198903749318,1.089571887939791,0.994767262423382,0.8419764756369659,1.0686355293572398,1.185662568711961,0.6938422164693345,0.81710604580178,1.2750198923263765,1.0947137443555073,0.8934155142971161,0.9613612607244385,1.0775182896623126,0.8358251062497245,0.8244295585349466,0.7420107282967295,1.0856082975232073,1.0855500746761417,2.1165393721441927,1.045470171622928,0.7737163440973392,0.7652297261739069,0.7985659020053845,0.8145857612305796,1.304938961489307,1.4045741441654203,0.8299125144668693,0.7569940129990357,1.1548941355893412,0.7780763645640805,1.0099602834980868,1.223595844761429,0.8570538888264998,0.8570540014781857,1.0169154597538348,1.305740761832073,1.3023073784238826,0.922002109743226,0.9102594883292808,1.232276169490833,0.7743234259895486,1.0253294057314375,0.8594951870190578,1.094997967782098,0.8235150345120746,0.9941602233494818,1.4879608743088246,0.9418324460170847,0.8776546622590689,1.0343582498817083,1.0451030127734493,1.1151919542050102,2.0736477621069342,1.550127327832288,1.00657717490801,1.033211689697381,1.0492996183153394,0.8545702884147423,1.056749707049056,0.8063351140523863,0.9464288061383587,1.0292068234452811,1.0059948938812666,0.8720983486085813,1.21622557892161,0.8312261828888331,0.7841032485074763,0.749794113736607,0.7873433549216317,0.8112531258742014,0.7994494506961062,0.8797668140565025,0.9595459609621377,0.6444626889088418,0.9170845186648956,0.7915099941593982,0.9228059389384303,0.8043585149272172,1.1950112447486707,1.0443850743440903,0.9292142726281132,0.7251466434506837,0.7980207228530959,0.8265311340254484,1.1605608522279727,1.4172189073236072,0.7840729063534642,0.9573526535769848,0.9237519523908567,0.8941024335404804,0.7976285219325048,1.2903410126216892,0.9094581495827089,0.7465220771040832,0.9785419193317092,0.8130463089282335,0.9627939065040201,0.7914050709108833,0.7841021470345688,0.7234581656116824,0.8009890936888389,0.8337270723912311,0.8141307419548324,0.6344913387988677,0.7990523712293431,1.0374383428785645,0.656209049971686,1.4196985791281915,1.2574903762655487,1.1438926493765469,0.9615184058334372,0.899467653967902,0.9180219423717151,1.3339137352950252,1.2778655208359107,0.7858397106672204,0.7671215513288029,0.823857924320255,0.8671750054679278,0.9561558833484382,0.8522847214566034,0.7928515217854114,1.183664479826878,0.9806779264916682,0.8395871980777732,0.7315906842090686,1.4227750717194954,0.899828378796499,0.9393706893212506,1.0412239532216836,1.6028487769648845,0.7675860281451193,0.9138622148689374,1.049962125728628,1.2291185880979165,1.0171303742712965,0.8801198498472544,1.127875487472484,1.053884019046618,1.3405059493553508,1.3095319116677056,1.1453485453044194,1.2422099985562307,1.3170064977519242,0.7410160166312332,1.1008468194735719,1.0894408233387778,1.1621341894399821,0.9163856494828398,1.2442934569989936,1.0116144146735293,1.0185390948837618,0.7371417076452633,0.7909382135079939,0.9724187471737888,1.0274307008718777,1.265898042004367,1.1925068912359547,1.622760106341778,0.8078889214576164,0.7948395313763519,1.154941014918341,1.1895020535617804,0.8472330736405917,0.8216511492957574,0.822621817939136,0.8419437427588047,1.0032429610485663,1.0038270505276308,0.8144879731343446,0.728883197628901,0.9964505847790763,1.0328444112034887,0.9168839022380679,1.1775914674558483,0.9026813658485082,1.1802400580149184,0.9001432285858809,0.7207544808427918,1.1598597647613123,1.1653499025841754,0.8313114000467067,0.9537763704111462,0.9026846840224013,1.0382241350750119,1.2772961935208405,1.3948107449654445,0.8450453908740074,1.01634099978194,0.8665091738930693,0.848071129741247,0.8978258618675687,1.4744800819087855,1.0538345427692097,0.9109504918806629,0.8668064346326632,0.9585790249392142,0.8256194306864437,1.2935337478437388,1.183576931065147,0.8212817215542154,0.8705146327095418,0.9050587029811515,0.9384282038142314,1.2214337836543825,1.014253682333547,0.9095466288782286,1.1735441135304734,0.8853743861556029,1.128288239961004,1.0803949096186731,1.2493575215839214,0.9914800679098149,1.0777853804111737,0.8841133892694526,0.9311780732310309,1.2208371674300489,0.6325809439735476,0.7386322557905761,0.84784404195464,1.1030813906130543,1.0273088481881942,1.4010357899076964,1.0343607497665464,0.8037907828164512,0.7459051534945617,1.2080842216484482,1.3259430523178954,0.7919717091618992,1.034770409878781,1.214306874582458,0.8761792652754368,0.8091306489406593,1.1041053435680903,1.150779875267587,1.57204721016113,1.1003647585533014,0.9069264970964261,2.8461028854105908,1.2183360349017927,0.9498124132520916,1.1105620153788522]},\"selected\":{\"id\":\"1165\",\"type\":\"Selection\"},\"selection_policy\":{\"id\":\"1166\",\"type\":\"UnionRenderers\"}},\"id\":\"1139\",\"type\":\"ColumnDataSource\"},{\"attributes\":{\"bottom_units\":\"screen\",\"fill_alpha\":{\"value\":0.5},\"fill_color\":{\"value\":\"lightgrey\"},\"left_units\":\"screen\",\"level\":\"overlay\",\"line_alpha\":{\"value\":1.0},\"line_color\":{\"value\":\"black\"},\"line_dash\":[4,4],\"line_width\":{\"value\":2},\"render_mode\":\"css\",\"right_units\":\"screen\",\"top_units\":\"screen\"},\"id\":\"1149\",\"type\":\"BoxAnnotation\"},{\"attributes\":{\"callback\":null},\"id\":\"1110\",\"type\":\"DataRange1d\"},{\"attributes\":{},\"id\":\"1147\",\"type\":\"BasicTickFormatter\"},{\"attributes\":{},\"id\":\"1114\",\"type\":\"LinearScale\"},{\"attributes\":{},\"id\":\"1122\",\"type\":\"BasicTicker\"},{\"attributes\":{},\"id\":\"1127\",\"type\":\"WheelZoomTool\"},{\"attributes\":{\"items\":[{\"id\":\"1151\",\"type\":\"LegendItem\"}]},\"id\":\"1150\",\"type\":\"Legend\"},{\"attributes\":{},\"id\":\"1145\",\"type\":\"BasicTickFormatter\"},{\"attributes\":{},\"id\":\"1117\",\"type\":\"BasicTicker\"},{\"attributes\":{\"formatter\":{\"id\":\"1147\",\"type\":\"BasicTickFormatter\"},\"ticker\":{\"id\":\"1117\",\"type\":\"BasicTicker\"}},\"id\":\"1116\",\"type\":\"LinearAxis\"}],\"root_ids\":[\"1105\"]},\"title\":\"Bokeh Application\",\"version\":\"1.1.0\"}};\n",
       "  var render_items = [{\"docid\":\"706272ca-676b-43c9-8eba-9040e0d97f30\",\"roots\":{\"1105\":\"0645434a-95bf-4e02-a222-496c97f969a1\"}}];\n",
       "  root.Bokeh.embed.embed_items_notebook(docs_json, render_items);\n",
       "\n",
       "  }\n",
       "  if (root.Bokeh !== undefined) {\n",
       "    embed_document(root);\n",
       "  } else {\n",
       "    var attempts = 0;\n",
       "    var timer = setInterval(function(root) {\n",
       "      if (root.Bokeh !== undefined) {\n",
       "        embed_document(root);\n",
       "        clearInterval(timer);\n",
       "      }\n",
       "      attempts++;\n",
       "      if (attempts > 100) {\n",
       "        console.log(\"Bokeh: ERROR: Unable to run BokehJS code because BokehJS library is missing\");\n",
       "        clearInterval(timer);\n",
       "      }\n",
       "    }, 10, root)\n",
       "  }\n",
       "})(window);"
      ],
      "application/vnd.bokehjs_exec.v0+json": ""
     },
     "metadata": {
      "application/vnd.bokehjs_exec.v0+json": {
       "id": "1105"
      }
     },
     "output_type": "display_data"
    }
   ],
   "source": [
    "lista_aux_0 = lista_puntajes_unicos.copy()\n",
    "for i in range(1,5):\n",
    "    lista_aux_0.remove(max(lista_aux_0))\n",
    "\n",
    "grafico = figure(plot_width=700, \n",
    "           plot_height=350, \n",
    "           title='puntajes unicos menos 5 maximos', \n",
    "           background_fill_color=\"#f2f3f7\", \n",
    "           y_axis_label=\"puntaje\")\n",
    "\n",
    "grafico.line(list(range(0,len(lista_aux_0))), lista_aux_0,line_color='#cd2626', legend='Puntaje')\n",
    "\n",
    "\n",
    "show(grafico)"
   ]
  },
  {
   "cell_type": "code",
   "execution_count": 10,
   "metadata": {},
   "outputs": [
    {
     "data": {
      "text/html": [
       "\n",
       "\n",
       "\n",
       "\n",
       "\n",
       "\n",
       "  <div class=\"bk-root\" id=\"9970e7f5-ab37-4e5f-8773-e27161fa3823\" data-root-id=\"1216\"></div>\n"
      ]
     },
     "metadata": {},
     "output_type": "display_data"
    },
    {
     "data": {
      "application/javascript": [
       "(function(root) {\n",
       "  function embed_document(root) {\n",
       "    \n",
       "  var docs_json = {\"751b1899-1d97-49be-b3bd-3288e35ac1ca\":{\"roots\":{\"references\":[{\"attributes\":{\"background_fill_color\":{\"value\":\"#f2f3f7\"},\"below\":[{\"id\":\"1227\",\"type\":\"LinearAxis\"}],\"center\":[{\"id\":\"1231\",\"type\":\"Grid\"},{\"id\":\"1236\",\"type\":\"Grid\"},{\"id\":\"1261\",\"type\":\"Legend\"}],\"left\":[{\"id\":\"1232\",\"type\":\"LinearAxis\"}],\"plot_height\":350,\"plot_width\":700,\"renderers\":[{\"id\":\"1253\",\"type\":\"GlyphRenderer\"}],\"title\":{\"id\":\"1217\",\"type\":\"Title\"},\"toolbar\":{\"id\":\"1243\",\"type\":\"Toolbar\"},\"x_range\":{\"id\":\"1219\",\"type\":\"DataRange1d\"},\"x_scale\":{\"id\":\"1223\",\"type\":\"LinearScale\"},\"y_range\":{\"id\":\"1221\",\"type\":\"DataRange1d\"},\"y_scale\":{\"id\":\"1225\",\"type\":\"LinearScale\"}},\"id\":\"1216\",\"subtype\":\"Figure\",\"type\":\"Plot\"},{\"attributes\":{},\"id\":\"1241\",\"type\":\"ResetTool\"},{\"attributes\":{\"callback\":null,\"data\":{\"x\":[0,1,2,3,4,5,6,7,8,9,10,11,12,13,14,15,16,17,18,19,20,21,22,23,24,25,26,27,28,29,30,31,32,33,34,35,36,37,38,39,40,41,42,43,44,45,46,47,48,49,50,51,52,53,54,55,56,57,58,59,60,61,62,63,64,65,66,67,68,69,70,71,72,73,74,75,76,77,78,79,80,81,82,83,84,85,86,87,88,89,90,91,92,93,94,95,96,97,98,99,100,101,102,103,104,105,106,107,108,109,110,111,112,113,114,115,116,117,118,119,120,121,122,123,124,125,126,127,128,129,130,131,132,133,134,135,136,137,138,139,140,141,142,143,144,145,146,147,148,149,150,151,152,153,154,155,156,157,158,159,160,161,162,163,164,165,166,167,168,169,170,171,172,173,174,175,176,177,178,179,180,181,182,183,184,185,186,187,188,189,190,191,192,193,194,195,196,197,198,199,200,201,202,203,204,205,206,207,208,209,210,211,212,213,214,215,216,217,218,219,220,221,222,223,224,225,226,227,228,229,230,231,232,233,234,235,236,237,238,239,240,241,242,243,244,245,246,247,248,249,250,251,252,253,254,255],\"y\":[1.0454433823489448,0.9516823993417808,1.0036946618370128,1.2362933107117389,0.7146120163501791,1.1792779741811088,1.0584329293198982,1.0023838791552284,0.8189877167444819,0.7841315509633824,1.3551897619197097,0.7910941051462765,0.7847449909851424,0.993368243125178,1.1092668447949414,0.8916281169329755,0.8350214043846427,0.8514579267155054,0.98198903749318,1.089571887939791,0.994767262423382,0.8419764756369659,1.0686355293572398,1.185662568711961,0.6938422164693345,0.81710604580178,1.2750198923263765,1.0947137443555073,0.8934155142971161,0.9613612607244385,1.0775182896623126,0.8358251062497245,0.8244295585349466,0.7420107282967295,1.0856082975232073,1.0855500746761417,1.045470171622928,0.7737163440973392,0.7652297261739069,0.7985659020053845,0.8145857612305796,1.304938961489307,1.4045741441654203,0.8299125144668693,0.7569940129990357,1.1548941355893412,0.7780763645640805,1.0099602834980868,1.223595844761429,0.8570538888264998,0.8570540014781857,1.0169154597538348,1.305740761832073,1.3023073784238826,0.922002109743226,0.9102594883292808,1.232276169490833,0.7743234259895486,1.0253294057314375,0.8594951870190578,1.094997967782098,0.8235150345120746,0.9941602233494818,1.4879608743088246,0.9418324460170847,0.8776546622590689,1.0343582498817083,1.0451030127734493,1.1151919542050102,1.550127327832288,1.00657717490801,1.033211689697381,1.0492996183153394,0.8545702884147423,1.056749707049056,0.8063351140523863,0.9464288061383587,1.0292068234452811,1.0059948938812666,0.8720983486085813,1.21622557892161,0.8312261828888331,0.7841032485074763,0.749794113736607,0.7873433549216317,0.8112531258742014,0.7994494506961062,0.8797668140565025,0.9595459609621377,0.6444626889088418,0.9170845186648956,0.7915099941593982,0.9228059389384303,0.8043585149272172,1.1950112447486707,1.0443850743440903,0.9292142726281132,0.7251466434506837,0.7980207228530959,0.8265311340254484,1.1605608522279727,1.4172189073236072,0.7840729063534642,0.9573526535769848,0.9237519523908567,0.8941024335404804,0.7976285219325048,1.2903410126216892,0.9094581495827089,0.7465220771040832,0.9785419193317092,0.8130463089282335,0.9627939065040201,0.7914050709108833,0.7841021470345688,0.7234581656116824,0.8009890936888389,0.8337270723912311,0.8141307419548324,0.6344913387988677,0.7990523712293431,1.0374383428785645,0.656209049971686,1.4196985791281915,1.2574903762655487,1.1438926493765469,0.9615184058334372,0.899467653967902,0.9180219423717151,1.3339137352950252,1.2778655208359107,0.7858397106672204,0.7671215513288029,0.823857924320255,0.8671750054679278,0.9561558833484382,0.8522847214566034,0.7928515217854114,1.183664479826878,0.9806779264916682,0.8395871980777732,0.7315906842090686,1.4227750717194954,0.899828378796499,0.9393706893212506,1.0412239532216836,1.6028487769648845,0.7675860281451193,0.9138622148689374,1.049962125728628,1.2291185880979165,1.0171303742712965,0.8801198498472544,1.127875487472484,1.053884019046618,1.3405059493553508,1.3095319116677056,1.1453485453044194,1.2422099985562307,1.3170064977519242,0.7410160166312332,1.1008468194735719,1.0894408233387778,1.1621341894399821,0.9163856494828398,1.2442934569989936,1.0116144146735293,1.0185390948837618,0.7371417076452633,0.7909382135079939,0.9724187471737888,1.0274307008718777,1.265898042004367,1.1925068912359547,0.8078889214576164,0.7948395313763519,1.154941014918341,1.1895020535617804,0.8472330736405917,0.8216511492957574,0.822621817939136,0.8419437427588047,1.0032429610485663,1.0038270505276308,0.8144879731343446,0.728883197628901,0.9964505847790763,1.0328444112034887,0.9168839022380679,1.1775914674558483,0.9026813658485082,1.1802400580149184,0.9001432285858809,0.7207544808427918,1.1598597647613123,1.1653499025841754,0.8313114000467067,0.9537763704111462,0.9026846840224013,1.0382241350750119,1.2772961935208405,1.3948107449654445,0.8450453908740074,1.01634099978194,0.8665091738930693,0.848071129741247,0.8978258618675687,1.4744800819087855,1.0538345427692097,0.9109504918806629,0.8668064346326632,0.9585790249392142,0.8256194306864437,1.2935337478437388,1.183576931065147,0.8212817215542154,0.8705146327095418,0.9050587029811515,0.9384282038142314,1.2214337836543825,1.014253682333547,0.9095466288782286,1.1735441135304734,0.8853743861556029,1.128288239961004,1.0803949096186731,1.2493575215839214,0.9914800679098149,1.0777853804111737,0.8841133892694526,0.9311780732310309,1.2208371674300489,0.6325809439735476,0.7386322557905761,0.84784404195464,1.1030813906130543,1.0273088481881942,1.4010357899076964,1.0343607497665464,0.8037907828164512,0.7459051534945617,1.2080842216484482,1.3259430523178954,0.7919717091618992,1.034770409878781,1.214306874582458,0.8761792652754368,0.8091306489406593,1.1041053435680903,1.150779875267587,1.57204721016113,1.1003647585533014,0.9069264970964261,1.2183360349017927,0.9498124132520916,1.1105620153788522]},\"selected\":{\"id\":\"1284\",\"type\":\"Selection\"},\"selection_policy\":{\"id\":\"1285\",\"type\":\"UnionRenderers\"}},\"id\":\"1250\",\"type\":\"ColumnDataSource\"},{\"attributes\":{\"source\":{\"id\":\"1250\",\"type\":\"ColumnDataSource\"}},\"id\":\"1254\",\"type\":\"CDSView\"},{\"attributes\":{},\"id\":\"1242\",\"type\":\"HelpTool\"},{\"attributes\":{\"active_drag\":\"auto\",\"active_inspect\":\"auto\",\"active_multi\":null,\"active_scroll\":\"auto\",\"active_tap\":\"auto\",\"tools\":[{\"id\":\"1237\",\"type\":\"PanTool\"},{\"id\":\"1238\",\"type\":\"WheelZoomTool\"},{\"id\":\"1239\",\"type\":\"BoxZoomTool\"},{\"id\":\"1240\",\"type\":\"SaveTool\"},{\"id\":\"1241\",\"type\":\"ResetTool\"},{\"id\":\"1242\",\"type\":\"HelpTool\"}]},\"id\":\"1243\",\"type\":\"Toolbar\"},{\"attributes\":{\"bottom_units\":\"screen\",\"fill_alpha\":{\"value\":0.5},\"fill_color\":{\"value\":\"lightgrey\"},\"left_units\":\"screen\",\"level\":\"overlay\",\"line_alpha\":{\"value\":1.0},\"line_color\":{\"value\":\"black\"},\"line_dash\":[4,4],\"line_width\":{\"value\":2},\"render_mode\":\"css\",\"right_units\":\"screen\",\"top_units\":\"screen\"},\"id\":\"1260\",\"type\":\"BoxAnnotation\"},{\"attributes\":{\"label\":{\"value\":\"Puntaje\"},\"renderers\":[{\"id\":\"1253\",\"type\":\"GlyphRenderer\"}]},\"id\":\"1262\",\"type\":\"LegendItem\"},{\"attributes\":{},\"id\":\"1284\",\"type\":\"Selection\"},{\"attributes\":{\"callback\":null},\"id\":\"1219\",\"type\":\"DataRange1d\"},{\"attributes\":{},\"id\":\"1285\",\"type\":\"UnionRenderers\"},{\"attributes\":{},\"id\":\"1233\",\"type\":\"BasicTicker\"},{\"attributes\":{\"axis_label\":\"puntaje\",\"formatter\":{\"id\":\"1256\",\"type\":\"BasicTickFormatter\"},\"ticker\":{\"id\":\"1233\",\"type\":\"BasicTicker\"}},\"id\":\"1232\",\"type\":\"LinearAxis\"},{\"attributes\":{},\"id\":\"1240\",\"type\":\"SaveTool\"},{\"attributes\":{\"line_alpha\":0.1,\"line_color\":\"#1f77b4\",\"x\":{\"field\":\"x\"},\"y\":{\"field\":\"y\"}},\"id\":\"1252\",\"type\":\"Line\"},{\"attributes\":{\"overlay\":{\"id\":\"1260\",\"type\":\"BoxAnnotation\"}},\"id\":\"1239\",\"type\":\"BoxZoomTool\"},{\"attributes\":{\"line_color\":\"#cd2626\",\"x\":{\"field\":\"x\"},\"y\":{\"field\":\"y\"}},\"id\":\"1251\",\"type\":\"Line\"},{\"attributes\":{\"ticker\":{\"id\":\"1228\",\"type\":\"BasicTicker\"}},\"id\":\"1231\",\"type\":\"Grid\"},{\"attributes\":{\"items\":[{\"id\":\"1262\",\"type\":\"LegendItem\"}]},\"id\":\"1261\",\"type\":\"Legend\"},{\"attributes\":{},\"id\":\"1225\",\"type\":\"LinearScale\"},{\"attributes\":{\"formatter\":{\"id\":\"1258\",\"type\":\"BasicTickFormatter\"},\"ticker\":{\"id\":\"1228\",\"type\":\"BasicTicker\"}},\"id\":\"1227\",\"type\":\"LinearAxis\"},{\"attributes\":{},\"id\":\"1228\",\"type\":\"BasicTicker\"},{\"attributes\":{},\"id\":\"1256\",\"type\":\"BasicTickFormatter\"},{\"attributes\":{},\"id\":\"1238\",\"type\":\"WheelZoomTool\"},{\"attributes\":{},\"id\":\"1223\",\"type\":\"LinearScale\"},{\"attributes\":{},\"id\":\"1237\",\"type\":\"PanTool\"},{\"attributes\":{},\"id\":\"1258\",\"type\":\"BasicTickFormatter\"},{\"attributes\":{\"data_source\":{\"id\":\"1250\",\"type\":\"ColumnDataSource\"},\"glyph\":{\"id\":\"1251\",\"type\":\"Line\"},\"hover_glyph\":null,\"muted_glyph\":null,\"nonselection_glyph\":{\"id\":\"1252\",\"type\":\"Line\"},\"selection_glyph\":null,\"view\":{\"id\":\"1254\",\"type\":\"CDSView\"}},\"id\":\"1253\",\"type\":\"GlyphRenderer\"},{\"attributes\":{\"callback\":null},\"id\":\"1221\",\"type\":\"DataRange1d\"},{\"attributes\":{\"dimension\":1,\"ticker\":{\"id\":\"1233\",\"type\":\"BasicTicker\"}},\"id\":\"1236\",\"type\":\"Grid\"},{\"attributes\":{\"text\":\"puntajes unicos menos 10 maximos\"},\"id\":\"1217\",\"type\":\"Title\"}],\"root_ids\":[\"1216\"]},\"title\":\"Bokeh Application\",\"version\":\"1.1.0\"}};\n",
       "  var render_items = [{\"docid\":\"751b1899-1d97-49be-b3bd-3288e35ac1ca\",\"roots\":{\"1216\":\"9970e7f5-ab37-4e5f-8773-e27161fa3823\"}}];\n",
       "  root.Bokeh.embed.embed_items_notebook(docs_json, render_items);\n",
       "\n",
       "  }\n",
       "  if (root.Bokeh !== undefined) {\n",
       "    embed_document(root);\n",
       "  } else {\n",
       "    var attempts = 0;\n",
       "    var timer = setInterval(function(root) {\n",
       "      if (root.Bokeh !== undefined) {\n",
       "        embed_document(root);\n",
       "        clearInterval(timer);\n",
       "      }\n",
       "      attempts++;\n",
       "      if (attempts > 100) {\n",
       "        console.log(\"Bokeh: ERROR: Unable to run BokehJS code because BokehJS library is missing\");\n",
       "        clearInterval(timer);\n",
       "      }\n",
       "    }, 10, root)\n",
       "  }\n",
       "})(window);"
      ],
      "application/vnd.bokehjs_exec.v0+json": ""
     },
     "metadata": {
      "application/vnd.bokehjs_exec.v0+json": {
       "id": "1216"
      }
     },
     "output_type": "display_data"
    }
   ],
   "source": [
    "lista_aux_1 = lista_puntajes_unicos.copy()\n",
    "for i in range(1,10):\n",
    "    lista_aux_1.remove(max(lista_aux_1))\n",
    "\n",
    "grafico = figure(plot_width=700, \n",
    "           plot_height=350, \n",
    "           title='puntajes unicos menos 10 maximos', \n",
    "           background_fill_color=\"#f2f3f7\", \n",
    "           y_axis_label='puntaje')\n",
    "\n",
    "grafico.line(list(range(0,len(lista_aux_1))), lista_aux_1,line_color='#cd2626', legend='Puntaje')\n",
    "\n",
    "\n",
    "show(grafico)"
   ]
  },
  {
   "cell_type": "code",
   "execution_count": 11,
   "metadata": {},
   "outputs": [
    {
     "data": {
      "text/html": [
       "\n",
       "\n",
       "\n",
       "\n",
       "\n",
       "\n",
       "  <div class=\"bk-root\" id=\"9cc332da-699f-4125-960e-8aaad27e70d1\" data-root-id=\"1335\"></div>\n"
      ]
     },
     "metadata": {},
     "output_type": "display_data"
    },
    {
     "data": {
      "application/javascript": [
       "(function(root) {\n",
       "  function embed_document(root) {\n",
       "    \n",
       "  var docs_json = {\"c1137b5a-5318-4576-ad67-33893249b42a\":{\"roots\":{\"references\":[{\"attributes\":{\"background_fill_color\":{\"value\":\"#f2f3f7\"},\"below\":[{\"id\":\"1346\",\"type\":\"LinearAxis\"}],\"center\":[{\"id\":\"1350\",\"type\":\"Grid\"},{\"id\":\"1355\",\"type\":\"Grid\"},{\"id\":\"1380\",\"type\":\"Legend\"}],\"left\":[{\"id\":\"1351\",\"type\":\"LinearAxis\"}],\"plot_height\":350,\"plot_width\":700,\"renderers\":[{\"id\":\"1372\",\"type\":\"GlyphRenderer\"}],\"title\":{\"id\":\"1336\",\"type\":\"Title\"},\"toolbar\":{\"id\":\"1362\",\"type\":\"Toolbar\"},\"x_range\":{\"id\":\"1338\",\"type\":\"DataRange1d\"},\"x_scale\":{\"id\":\"1342\",\"type\":\"LinearScale\"},\"y_range\":{\"id\":\"1340\",\"type\":\"DataRange1d\"},\"y_scale\":{\"id\":\"1344\",\"type\":\"LinearScale\"}},\"id\":\"1335\",\"subtype\":\"Figure\",\"type\":\"Plot\"},{\"attributes\":{\"active_drag\":\"auto\",\"active_inspect\":\"auto\",\"active_multi\":null,\"active_scroll\":\"auto\",\"active_tap\":\"auto\",\"tools\":[{\"id\":\"1356\",\"type\":\"PanTool\"},{\"id\":\"1357\",\"type\":\"WheelZoomTool\"},{\"id\":\"1358\",\"type\":\"BoxZoomTool\"},{\"id\":\"1359\",\"type\":\"SaveTool\"},{\"id\":\"1360\",\"type\":\"ResetTool\"},{\"id\":\"1361\",\"type\":\"HelpTool\"}]},\"id\":\"1362\",\"type\":\"Toolbar\"},{\"attributes\":{\"source\":{\"id\":\"1369\",\"type\":\"ColumnDataSource\"}},\"id\":\"1373\",\"type\":\"CDSView\"},{\"attributes\":{},\"id\":\"1375\",\"type\":\"BasicTickFormatter\"},{\"attributes\":{\"callback\":null,\"data\":{\"x\":[0,1,2,3,4,5,6,7,8,9,10,11,12,13,14,15,16,17,18,19,20,21,22,23,24,25,26,27,28,29,30,31,32,33,34,35,36,37,38,39,40,41,42,43,44,45,46,47,48,49,50,51,52,53,54,55,56,57,58,59,60,61,62,63,64,65,66,67,68,69,70,71,72,73,74,75,76,77,78,79,80,81,82,83,84,85,86,87,88,89,90,91,92,93,94,95,96,97,98,99,100,101,102,103,104,105,106,107,108,109,110,111,112,113,114,115,116,117,118,119,120,121,122,123,124,125,126,127,128,129,130,131,132,133,134,135,136,137,138,139,140,141,142,143,144,145,146,147,148,149,150,151,152,153,154,155,156,157,158,159,160,161,162,163,164,165,166,167,168,169,170,171,172,173,174,175,176,177,178,179,180,181,182,183,184,185,186,187,188,189,190,191,192,193,194,195,196,197,198,199,200,201,202,203,204,205,206,207,208,209,210,211,212,213,214,215,216,217,218,219,220,221,222,223,224,225,226,227,228,229,230,231,232,233,234,235,236,237,238,239,240,241,242,243,244,245],\"y\":[1.0454433823489448,0.9516823993417808,1.0036946618370128,1.2362933107117389,0.7146120163501791,1.1792779741811088,1.0584329293198982,1.0023838791552284,0.8189877167444819,0.7841315509633824,1.3551897619197097,0.7910941051462765,0.7847449909851424,0.993368243125178,1.1092668447949414,0.8916281169329755,0.8350214043846427,0.8514579267155054,0.98198903749318,1.089571887939791,0.994767262423382,0.8419764756369659,1.0686355293572398,1.185662568711961,0.6938422164693345,0.81710604580178,1.2750198923263765,1.0947137443555073,0.8934155142971161,0.9613612607244385,1.0775182896623126,0.8358251062497245,0.8244295585349466,0.7420107282967295,1.0856082975232073,1.0855500746761417,1.045470171622928,0.7737163440973392,0.7652297261739069,0.7985659020053845,0.8145857612305796,1.304938961489307,0.8299125144668693,0.7569940129990357,1.1548941355893412,0.7780763645640805,1.0099602834980868,1.223595844761429,0.8570538888264998,0.8570540014781857,1.0169154597538348,1.305740761832073,1.3023073784238826,0.922002109743226,0.9102594883292808,1.232276169490833,0.7743234259895486,1.0253294057314375,0.8594951870190578,1.094997967782098,0.8235150345120746,0.9941602233494818,0.9418324460170847,0.8776546622590689,1.0343582498817083,1.0451030127734493,1.1151919542050102,1.00657717490801,1.033211689697381,1.0492996183153394,0.8545702884147423,1.056749707049056,0.8063351140523863,0.9464288061383587,1.0292068234452811,1.0059948938812666,0.8720983486085813,1.21622557892161,0.8312261828888331,0.7841032485074763,0.749794113736607,0.7873433549216317,0.8112531258742014,0.7994494506961062,0.8797668140565025,0.9595459609621377,0.6444626889088418,0.9170845186648956,0.7915099941593982,0.9228059389384303,0.8043585149272172,1.1950112447486707,1.0443850743440903,0.9292142726281132,0.7251466434506837,0.7980207228530959,0.8265311340254484,1.1605608522279727,0.7840729063534642,0.9573526535769848,0.9237519523908567,0.8941024335404804,0.7976285219325048,1.2903410126216892,0.9094581495827089,0.7465220771040832,0.9785419193317092,0.8130463089282335,0.9627939065040201,0.7914050709108833,0.7841021470345688,0.7234581656116824,0.8009890936888389,0.8337270723912311,0.8141307419548324,0.6344913387988677,0.7990523712293431,1.0374383428785645,0.656209049971686,1.2574903762655487,1.1438926493765469,0.9615184058334372,0.899467653967902,0.9180219423717151,1.3339137352950252,1.2778655208359107,0.7858397106672204,0.7671215513288029,0.823857924320255,0.8671750054679278,0.9561558833484382,0.8522847214566034,0.7928515217854114,1.183664479826878,0.9806779264916682,0.8395871980777732,0.7315906842090686,0.899828378796499,0.9393706893212506,1.0412239532216836,0.7675860281451193,0.9138622148689374,1.049962125728628,1.2291185880979165,1.0171303742712965,0.8801198498472544,1.127875487472484,1.053884019046618,1.3405059493553508,1.3095319116677056,1.1453485453044194,1.2422099985562307,1.3170064977519242,0.7410160166312332,1.1008468194735719,1.0894408233387778,1.1621341894399821,0.9163856494828398,1.2442934569989936,1.0116144146735293,1.0185390948837618,0.7371417076452633,0.7909382135079939,0.9724187471737888,1.0274307008718777,1.265898042004367,1.1925068912359547,0.8078889214576164,0.7948395313763519,1.154941014918341,1.1895020535617804,0.8472330736405917,0.8216511492957574,0.822621817939136,0.8419437427588047,1.0032429610485663,1.0038270505276308,0.8144879731343446,0.728883197628901,0.9964505847790763,1.0328444112034887,0.9168839022380679,1.1775914674558483,0.9026813658485082,1.1802400580149184,0.9001432285858809,0.7207544808427918,1.1598597647613123,1.1653499025841754,0.8313114000467067,0.9537763704111462,0.9026846840224013,1.0382241350750119,1.2772961935208405,1.3948107449654445,0.8450453908740074,1.01634099978194,0.8665091738930693,0.848071129741247,0.8978258618675687,1.0538345427692097,0.9109504918806629,0.8668064346326632,0.9585790249392142,0.8256194306864437,1.2935337478437388,1.183576931065147,0.8212817215542154,0.8705146327095418,0.9050587029811515,0.9384282038142314,1.2214337836543825,1.014253682333547,0.9095466288782286,1.1735441135304734,0.8853743861556029,1.128288239961004,1.0803949096186731,1.2493575215839214,0.9914800679098149,1.0777853804111737,0.8841133892694526,0.9311780732310309,1.2208371674300489,0.6325809439735476,0.7386322557905761,0.84784404195464,1.1030813906130543,1.0273088481881942,1.0343607497665464,0.8037907828164512,0.7459051534945617,1.2080842216484482,1.3259430523178954,0.7919717091618992,1.034770409878781,1.214306874582458,0.8761792652754368,0.8091306489406593,1.1041053435680903,1.150779875267587,1.1003647585533014,0.9069264970964261,1.2183360349017927,0.9498124132520916,1.1105620153788522]},\"selected\":{\"id\":\"1411\",\"type\":\"Selection\"},\"selection_policy\":{\"id\":\"1412\",\"type\":\"UnionRenderers\"}},\"id\":\"1369\",\"type\":\"ColumnDataSource\"},{\"attributes\":{},\"id\":\"1377\",\"type\":\"BasicTickFormatter\"},{\"attributes\":{},\"id\":\"1411\",\"type\":\"Selection\"},{\"attributes\":{},\"id\":\"1412\",\"type\":\"UnionRenderers\"},{\"attributes\":{\"overlay\":{\"id\":\"1379\",\"type\":\"BoxAnnotation\"}},\"id\":\"1358\",\"type\":\"BoxZoomTool\"},{\"attributes\":{\"axis_label\":\"puntaje\",\"formatter\":{\"id\":\"1375\",\"type\":\"BasicTickFormatter\"},\"ticker\":{\"id\":\"1352\",\"type\":\"BasicTicker\"}},\"id\":\"1351\",\"type\":\"LinearAxis\"},{\"attributes\":{\"dimension\":1,\"ticker\":{\"id\":\"1352\",\"type\":\"BasicTicker\"}},\"id\":\"1355\",\"type\":\"Grid\"},{\"attributes\":{},\"id\":\"1360\",\"type\":\"ResetTool\"},{\"attributes\":{\"label\":{\"value\":\"Puntaje\"},\"renderers\":[{\"id\":\"1372\",\"type\":\"GlyphRenderer\"}]},\"id\":\"1381\",\"type\":\"LegendItem\"},{\"attributes\":{},\"id\":\"1352\",\"type\":\"BasicTicker\"},{\"attributes\":{\"ticker\":{\"id\":\"1347\",\"type\":\"BasicTicker\"}},\"id\":\"1350\",\"type\":\"Grid\"},{\"attributes\":{\"text\":\"puntajes unicos menos 20 maximos\"},\"id\":\"1336\",\"type\":\"Title\"},{\"attributes\":{\"line_color\":\"#cd2626\",\"x\":{\"field\":\"x\"},\"y\":{\"field\":\"y\"}},\"id\":\"1370\",\"type\":\"Line\"},{\"attributes\":{\"callback\":null},\"id\":\"1338\",\"type\":\"DataRange1d\"},{\"attributes\":{\"line_alpha\":0.1,\"line_color\":\"#1f77b4\",\"x\":{\"field\":\"x\"},\"y\":{\"field\":\"y\"}},\"id\":\"1371\",\"type\":\"Line\"},{\"attributes\":{},\"id\":\"1347\",\"type\":\"BasicTicker\"},{\"attributes\":{},\"id\":\"1342\",\"type\":\"LinearScale\"},{\"attributes\":{},\"id\":\"1361\",\"type\":\"HelpTool\"},{\"attributes\":{\"items\":[{\"id\":\"1381\",\"type\":\"LegendItem\"}]},\"id\":\"1380\",\"type\":\"Legend\"},{\"attributes\":{},\"id\":\"1344\",\"type\":\"LinearScale\"},{\"attributes\":{},\"id\":\"1359\",\"type\":\"SaveTool\"},{\"attributes\":{\"bottom_units\":\"screen\",\"fill_alpha\":{\"value\":0.5},\"fill_color\":{\"value\":\"lightgrey\"},\"left_units\":\"screen\",\"level\":\"overlay\",\"line_alpha\":{\"value\":1.0},\"line_color\":{\"value\":\"black\"},\"line_dash\":[4,4],\"line_width\":{\"value\":2},\"render_mode\":\"css\",\"right_units\":\"screen\",\"top_units\":\"screen\"},\"id\":\"1379\",\"type\":\"BoxAnnotation\"},{\"attributes\":{},\"id\":\"1356\",\"type\":\"PanTool\"},{\"attributes\":{\"formatter\":{\"id\":\"1377\",\"type\":\"BasicTickFormatter\"},\"ticker\":{\"id\":\"1347\",\"type\":\"BasicTicker\"}},\"id\":\"1346\",\"type\":\"LinearAxis\"},{\"attributes\":{\"data_source\":{\"id\":\"1369\",\"type\":\"ColumnDataSource\"},\"glyph\":{\"id\":\"1370\",\"type\":\"Line\"},\"hover_glyph\":null,\"muted_glyph\":null,\"nonselection_glyph\":{\"id\":\"1371\",\"type\":\"Line\"},\"selection_glyph\":null,\"view\":{\"id\":\"1373\",\"type\":\"CDSView\"}},\"id\":\"1372\",\"type\":\"GlyphRenderer\"},{\"attributes\":{\"callback\":null},\"id\":\"1340\",\"type\":\"DataRange1d\"},{\"attributes\":{},\"id\":\"1357\",\"type\":\"WheelZoomTool\"}],\"root_ids\":[\"1335\"]},\"title\":\"Bokeh Application\",\"version\":\"1.1.0\"}};\n",
       "  var render_items = [{\"docid\":\"c1137b5a-5318-4576-ad67-33893249b42a\",\"roots\":{\"1335\":\"9cc332da-699f-4125-960e-8aaad27e70d1\"}}];\n",
       "  root.Bokeh.embed.embed_items_notebook(docs_json, render_items);\n",
       "\n",
       "  }\n",
       "  if (root.Bokeh !== undefined) {\n",
       "    embed_document(root);\n",
       "  } else {\n",
       "    var attempts = 0;\n",
       "    var timer = setInterval(function(root) {\n",
       "      if (root.Bokeh !== undefined) {\n",
       "        embed_document(root);\n",
       "        clearInterval(timer);\n",
       "      }\n",
       "      attempts++;\n",
       "      if (attempts > 100) {\n",
       "        console.log(\"Bokeh: ERROR: Unable to run BokehJS code because BokehJS library is missing\");\n",
       "        clearInterval(timer);\n",
       "      }\n",
       "    }, 10, root)\n",
       "  }\n",
       "})(window);"
      ],
      "application/vnd.bokehjs_exec.v0+json": ""
     },
     "metadata": {
      "application/vnd.bokehjs_exec.v0+json": {
       "id": "1335"
      }
     },
     "output_type": "display_data"
    }
   ],
   "source": [
    "lista_aux_2 = lista_puntajes_unicos.copy()\n",
    "for i in range(1,20):\n",
    "    lista_aux_2.remove(max(lista_aux_2))\n",
    "\n",
    "grafico = figure(plot_width=700, \n",
    "           plot_height=350, \n",
    "           title='puntajes unicos menos 20 maximos', \n",
    "           background_fill_color=\"#f2f3f7\", \n",
    "           y_axis_label='puntaje')\n",
    "\n",
    "grafico.line(list(range(0,len(lista_aux_2))), lista_aux_2,line_color='#cd2626', legend='Puntaje')\n",
    "\n",
    "\n",
    "show(grafico)"
   ]
  },
  {
   "cell_type": "markdown",
   "metadata": {},
   "source": [
    "### Cantidad de tweets"
   ]
  },
  {
   "cell_type": "code",
   "execution_count": 12,
   "metadata": {},
   "outputs": [
    {
     "data": {
      "text/html": [
       "\n",
       "\n",
       "\n",
       "\n",
       "\n",
       "\n",
       "  <div class=\"bk-root\" id=\"80743c7d-5607-4208-b7b6-aee269398231\" data-root-id=\"1462\"></div>\n"
      ]
     },
     "metadata": {},
     "output_type": "display_data"
    },
    {
     "data": {
      "application/javascript": [
       "(function(root) {\n",
       "  function embed_document(root) {\n",
       "    \n",
       "  var docs_json = {\"ec5051c3-4f9a-4a93-b196-7b36626cd70e\":{\"roots\":{\"references\":[{\"attributes\":{\"background_fill_color\":{\"value\":\"#f2f3f7\"},\"below\":[{\"id\":\"1473\",\"type\":\"LinearAxis\"}],\"center\":[{\"id\":\"1477\",\"type\":\"Grid\"},{\"id\":\"1482\",\"type\":\"Grid\"},{\"id\":\"1507\",\"type\":\"Legend\"}],\"left\":[{\"id\":\"1478\",\"type\":\"LinearAxis\"}],\"plot_height\":350,\"plot_width\":700,\"renderers\":[{\"id\":\"1499\",\"type\":\"GlyphRenderer\"}],\"title\":{\"id\":\"1463\",\"type\":\"Title\"},\"toolbar\":{\"id\":\"1489\",\"type\":\"Toolbar\"},\"x_range\":{\"id\":\"1465\",\"type\":\"DataRange1d\"},\"x_scale\":{\"id\":\"1469\",\"type\":\"LinearScale\"},\"y_range\":{\"id\":\"1467\",\"type\":\"DataRange1d\"},\"y_scale\":{\"id\":\"1471\",\"type\":\"LinearScale\"}},\"id\":\"1462\",\"subtype\":\"Figure\",\"type\":\"Plot\"},{\"attributes\":{\"label\":{\"value\":\"Puntaje\"},\"renderers\":[{\"id\":\"1499\",\"type\":\"GlyphRenderer\"}]},\"id\":\"1508\",\"type\":\"LegendItem\"},{\"attributes\":{},\"id\":\"1502\",\"type\":\"BasicTickFormatter\"},{\"attributes\":{},\"id\":\"1547\",\"type\":\"UnionRenderers\"},{\"attributes\":{\"bottom_units\":\"screen\",\"fill_alpha\":{\"value\":0.5},\"fill_color\":{\"value\":\"lightgrey\"},\"left_units\":\"screen\",\"level\":\"overlay\",\"line_alpha\":{\"value\":1.0},\"line_color\":{\"value\":\"black\"},\"line_dash\":[4,4],\"line_width\":{\"value\":2},\"render_mode\":\"css\",\"right_units\":\"screen\",\"top_units\":\"screen\"},\"id\":\"1506\",\"type\":\"BoxAnnotation\"},{\"attributes\":{\"items\":[{\"id\":\"1508\",\"type\":\"LegendItem\"}]},\"id\":\"1507\",\"type\":\"Legend\"},{\"attributes\":{},\"id\":\"1546\",\"type\":\"Selection\"},{\"attributes\":{\"active_drag\":\"auto\",\"active_inspect\":\"auto\",\"active_multi\":null,\"active_scroll\":\"auto\",\"active_tap\":\"auto\",\"tools\":[{\"id\":\"1483\",\"type\":\"PanTool\"},{\"id\":\"1484\",\"type\":\"WheelZoomTool\"},{\"id\":\"1485\",\"type\":\"BoxZoomTool\"},{\"id\":\"1486\",\"type\":\"SaveTool\"},{\"id\":\"1487\",\"type\":\"ResetTool\"},{\"id\":\"1488\",\"type\":\"HelpTool\"}]},\"id\":\"1489\",\"type\":\"Toolbar\"},{\"attributes\":{\"source\":{\"id\":\"1496\",\"type\":\"ColumnDataSource\"}},\"id\":\"1500\",\"type\":\"CDSView\"},{\"attributes\":{\"callback\":null},\"id\":\"1465\",\"type\":\"DataRange1d\"},{\"attributes\":{},\"id\":\"1504\",\"type\":\"BasicTickFormatter\"},{\"attributes\":{},\"id\":\"1474\",\"type\":\"BasicTicker\"},{\"attributes\":{},\"id\":\"1488\",\"type\":\"HelpTool\"},{\"attributes\":{\"data_source\":{\"id\":\"1496\",\"type\":\"ColumnDataSource\"},\"glyph\":{\"id\":\"1497\",\"type\":\"Line\"},\"hover_glyph\":null,\"muted_glyph\":null,\"nonselection_glyph\":{\"id\":\"1498\",\"type\":\"Line\"},\"selection_glyph\":null,\"view\":{\"id\":\"1500\",\"type\":\"CDSView\"}},\"id\":\"1499\",\"type\":\"GlyphRenderer\"},{\"attributes\":{\"ticker\":{\"id\":\"1474\",\"type\":\"BasicTicker\"}},\"id\":\"1477\",\"type\":\"Grid\"},{\"attributes\":{\"line_color\":\"#cd2626\",\"x\":{\"field\":\"x\"},\"y\":{\"field\":\"y\"}},\"id\":\"1497\",\"type\":\"Line\"},{\"attributes\":{\"formatter\":{\"id\":\"1504\",\"type\":\"BasicTickFormatter\"},\"ticker\":{\"id\":\"1474\",\"type\":\"BasicTicker\"}},\"id\":\"1473\",\"type\":\"LinearAxis\"},{\"attributes\":{\"line_alpha\":0.1,\"line_color\":\"#1f77b4\",\"x\":{\"field\":\"x\"},\"y\":{\"field\":\"y\"}},\"id\":\"1498\",\"type\":\"Line\"},{\"attributes\":{\"callback\":null,\"data\":{\"x\":[0,1,2,3,4,5,6,7,8,9,10,11,12,13,14,15,16,17,18,19,20,21,22,23,24,25,26,27,28,29,30,31,32,33,34,35,36,37,38,39,40,41,42,43,44,45,46,47,48,49,50,51,52,53,54,55,56,57,58,59,60,61,62,63,64,65,66,67,68,69,70,71,72,73,74,75,76,77,78,79,80,81,82,83,84,85,86,87,88,89,90,91,92,93,94,95,96,97,98,99,100,101,102,103,104,105,106,107,108,109,110,111,112,113,114,115,116,117,118,119,120,121,122,123,124,125,126,127,128,129,130,131,132,133,134,135,136,137,138,139,140,141,142,143,144,145,146,147,148,149,150,151,152,153,154,155,156,157,158,159,160,161,162,163,164,165,166,167,168,169,170,171,172,173,174,175,176,177,178,179,180,181,182,183,184,185,186,187,188,189,190,191,192,193,194,195,196,197,198,199,200,201,202,203,204,205,206,207,208,209,210,211,212,213,214,215,216,217,218,219,220,221,222,223,224,225,226,227,228,229,230,231,232,233,234,235,236,237,238,239,240,241,242,243,244,245,246,247,248,249,250,251,252,253,254,255,256,257,258,259,260,261,262,263,264],\"y\":[18892,39449,20145,20623,1177,119607,20783,48055,28993,51876,6562,201,50646,40271,39843,33521,8363,58166,26614,45373,34134,154697,125874,35995,90524,40687,210799,110244,5535,13245,2707,73725,55067,3353,9540,18732,38364,1607,3491,5307,91558,9889,16280,12221,22050,27102,81477,5460,5927,6803,18551,8944,39156,247088,146344,5438,18077,11716,15594,11182,1008,200703,73610,342564,53737,37504,58135,104357,27952,86529,29370,25113,10178,10787,48407,32703,24336,12829,59604,51018,7761,27403,56685,119856,3398,34613,28790,7867,37332,145000,47428,48495,115582,509,11593,60540,27168,78098,5854,12756,5843,9341,722,8241,2386,32046,6199,62777,191666,55087,14691,33649,47784,97165,8045,15521,8586,64998,41414,97537,7335,156643,231176,28637,1593,69303,159286,3004,33003,2334,2497,13762,639,38758,305675,25466,19327,22096,21356,46602,32753,48049,27747,661,140357,9130,22087,56971,848818,51783,26277,26972,11754,34480,45918,1257,25596,92480,36511,36293,38262,51070,84212,50295,94138,72884,35368,98360,77739,129372,58195,8731,22485,30690,14892,4376,393,9381,43066,1752,63418,196205,92844,34478,16390,12222,43952,72096,7985,20437,78608,9731,97547,30735,25979,17848,108576,85636,22094,58714,14170,8852,31372,56893,167202,27630,33143,95996,34946,110903,85943,100089,85622,32929,44437,8305,32431,3159,217642,73459,38906,146336,24701,22576,74526,10211,46760,80603,3759,4915,61150,192518,192796,240763,81855,98806,233720,5388,78193,183227,1895,20517,193067,118896,2139,17930,174794,133029,57547,94095,23682,114892,12075,10654,15886,13269,11197,18222,6858,49286,29670,160904,60290,74374,79865]},\"selected\":{\"id\":\"1546\",\"type\":\"Selection\"},\"selection_policy\":{\"id\":\"1547\",\"type\":\"UnionRenderers\"}},\"id\":\"1496\",\"type\":\"ColumnDataSource\"},{\"attributes\":{\"axis_label\":\"cant tweets\",\"formatter\":{\"id\":\"1502\",\"type\":\"BasicTickFormatter\"},\"ticker\":{\"id\":\"1479\",\"type\":\"BasicTicker\"}},\"id\":\"1478\",\"type\":\"LinearAxis\"},{\"attributes\":{},\"id\":\"1479\",\"type\":\"BasicTicker\"},{\"attributes\":{},\"id\":\"1471\",\"type\":\"LinearScale\"},{\"attributes\":{\"dimension\":1,\"ticker\":{\"id\":\"1479\",\"type\":\"BasicTicker\"}},\"id\":\"1482\",\"type\":\"Grid\"},{\"attributes\":{\"callback\":null},\"id\":\"1467\",\"type\":\"DataRange1d\"},{\"attributes\":{},\"id\":\"1484\",\"type\":\"WheelZoomTool\"},{\"attributes\":{},\"id\":\"1486\",\"type\":\"SaveTool\"},{\"attributes\":{},\"id\":\"1469\",\"type\":\"LinearScale\"},{\"attributes\":{\"text\":\"cantidad de tweets\"},\"id\":\"1463\",\"type\":\"Title\"},{\"attributes\":{},\"id\":\"1483\",\"type\":\"PanTool\"},{\"attributes\":{\"overlay\":{\"id\":\"1506\",\"type\":\"BoxAnnotation\"}},\"id\":\"1485\",\"type\":\"BoxZoomTool\"},{\"attributes\":{},\"id\":\"1487\",\"type\":\"ResetTool\"}],\"root_ids\":[\"1462\"]},\"title\":\"Bokeh Application\",\"version\":\"1.1.0\"}};\n",
       "  var render_items = [{\"docid\":\"ec5051c3-4f9a-4a93-b196-7b36626cd70e\",\"roots\":{\"1462\":\"80743c7d-5607-4208-b7b6-aee269398231\"}}];\n",
       "  root.Bokeh.embed.embed_items_notebook(docs_json, render_items);\n",
       "\n",
       "  }\n",
       "  if (root.Bokeh !== undefined) {\n",
       "    embed_document(root);\n",
       "  } else {\n",
       "    var attempts = 0;\n",
       "    var timer = setInterval(function(root) {\n",
       "      if (root.Bokeh !== undefined) {\n",
       "        embed_document(root);\n",
       "        clearInterval(timer);\n",
       "      }\n",
       "      attempts++;\n",
       "      if (attempts > 100) {\n",
       "        console.log(\"Bokeh: ERROR: Unable to run BokehJS code because BokehJS library is missing\");\n",
       "        clearInterval(timer);\n",
       "      }\n",
       "    }, 10, root)\n",
       "  }\n",
       "})(window);"
      ],
      "application/vnd.bokehjs_exec.v0+json": ""
     },
     "metadata": {
      "application/vnd.bokehjs_exec.v0+json": {
       "id": "1462"
      }
     },
     "output_type": "display_data"
    }
   ],
   "source": [
    "lista_tweets_aux_1 = lista_cant_tweets.copy()\n",
    "lista = lista_tweets_aux_1\n",
    "\n",
    "grafico = figure(plot_width=700, \n",
    "           plot_height=350, \n",
    "           title='cantidad de tweets', \n",
    "           background_fill_color=\"#f2f3f7\", \n",
    "           y_axis_label='cant tweets')\n",
    "\n",
    "grafico.line(list(range(0,len(lista))), lista,line_color='#cd2626', legend='Puntaje')\n",
    "\n",
    "\n",
    "show(grafico)"
   ]
  },
  {
   "cell_type": "code",
   "execution_count": 13,
   "metadata": {},
   "outputs": [
    {
     "data": {
      "text/html": [
       "\n",
       "\n",
       "\n",
       "\n",
       "\n",
       "\n",
       "  <div class=\"bk-root\" id=\"1149ff33-596e-4746-91c4-4475311fb7d9\" data-root-id=\"1597\"></div>\n"
      ]
     },
     "metadata": {},
     "output_type": "display_data"
    },
    {
     "data": {
      "application/javascript": [
       "(function(root) {\n",
       "  function embed_document(root) {\n",
       "    \n",
       "  var docs_json = {\"9c396985-2627-4d3d-a6fe-d5f7ad7ab062\":{\"roots\":{\"references\":[{\"attributes\":{\"background_fill_color\":{\"value\":\"#f2f3f7\"},\"below\":[{\"id\":\"1608\",\"type\":\"LinearAxis\"}],\"center\":[{\"id\":\"1612\",\"type\":\"Grid\"},{\"id\":\"1617\",\"type\":\"Grid\"},{\"id\":\"1642\",\"type\":\"Legend\"}],\"left\":[{\"id\":\"1613\",\"type\":\"LinearAxis\"}],\"plot_height\":350,\"plot_width\":700,\"renderers\":[{\"id\":\"1634\",\"type\":\"GlyphRenderer\"}],\"title\":{\"id\":\"1598\",\"type\":\"Title\"},\"toolbar\":{\"id\":\"1624\",\"type\":\"Toolbar\"},\"x_range\":{\"id\":\"1600\",\"type\":\"DataRange1d\"},\"x_scale\":{\"id\":\"1604\",\"type\":\"LinearScale\"},\"y_range\":{\"id\":\"1602\",\"type\":\"DataRange1d\"},\"y_scale\":{\"id\":\"1606\",\"type\":\"LinearScale\"}},\"id\":\"1597\",\"subtype\":\"Figure\",\"type\":\"Plot\"},{\"attributes\":{\"active_drag\":\"auto\",\"active_inspect\":\"auto\",\"active_multi\":null,\"active_scroll\":\"auto\",\"active_tap\":\"auto\",\"tools\":[{\"id\":\"1618\",\"type\":\"PanTool\"},{\"id\":\"1619\",\"type\":\"WheelZoomTool\"},{\"id\":\"1620\",\"type\":\"BoxZoomTool\"},{\"id\":\"1621\",\"type\":\"SaveTool\"},{\"id\":\"1622\",\"type\":\"ResetTool\"},{\"id\":\"1623\",\"type\":\"HelpTool\"}]},\"id\":\"1624\",\"type\":\"Toolbar\"},{\"attributes\":{},\"id\":\"1637\",\"type\":\"BasicTickFormatter\"},{\"attributes\":{\"callback\":null},\"id\":\"1600\",\"type\":\"DataRange1d\"},{\"attributes\":{},\"id\":\"1639\",\"type\":\"BasicTickFormatter\"},{\"attributes\":{},\"id\":\"1689\",\"type\":\"Selection\"},{\"attributes\":{},\"id\":\"1606\",\"type\":\"LinearScale\"},{\"attributes\":{\"bottom_units\":\"screen\",\"fill_alpha\":{\"value\":0.5},\"fill_color\":{\"value\":\"lightgrey\"},\"left_units\":\"screen\",\"level\":\"overlay\",\"line_alpha\":{\"value\":1.0},\"line_color\":{\"value\":\"black\"},\"line_dash\":[4,4],\"line_width\":{\"value\":2},\"render_mode\":\"css\",\"right_units\":\"screen\",\"top_units\":\"screen\"},\"id\":\"1641\",\"type\":\"BoxAnnotation\"},{\"attributes\":{\"overlay\":{\"id\":\"1641\",\"type\":\"BoxAnnotation\"}},\"id\":\"1620\",\"type\":\"BoxZoomTool\"},{\"attributes\":{\"axis_label\":\"cant tweets\",\"formatter\":{\"id\":\"1637\",\"type\":\"BasicTickFormatter\"},\"ticker\":{\"id\":\"1614\",\"type\":\"BasicTicker\"}},\"id\":\"1613\",\"type\":\"LinearAxis\"},{\"attributes\":{\"source\":{\"id\":\"1631\",\"type\":\"ColumnDataSource\"}},\"id\":\"1635\",\"type\":\"CDSView\"},{\"attributes\":{},\"id\":\"1609\",\"type\":\"BasicTicker\"},{\"attributes\":{\"label\":{\"value\":\"Puntaje\"},\"renderers\":[{\"id\":\"1634\",\"type\":\"GlyphRenderer\"}]},\"id\":\"1643\",\"type\":\"LegendItem\"},{\"attributes\":{\"items\":[{\"id\":\"1643\",\"type\":\"LegendItem\"}]},\"id\":\"1642\",\"type\":\"Legend\"},{\"attributes\":{},\"id\":\"1619\",\"type\":\"WheelZoomTool\"},{\"attributes\":{\"line_alpha\":0.1,\"line_color\":\"#1f77b4\",\"x\":{\"field\":\"x\"},\"y\":{\"field\":\"y\"}},\"id\":\"1633\",\"type\":\"Line\"},{\"attributes\":{\"formatter\":{\"id\":\"1639\",\"type\":\"BasicTickFormatter\"},\"ticker\":{\"id\":\"1609\",\"type\":\"BasicTicker\"}},\"id\":\"1608\",\"type\":\"LinearAxis\"},{\"attributes\":{\"dimension\":1,\"ticker\":{\"id\":\"1614\",\"type\":\"BasicTicker\"}},\"id\":\"1617\",\"type\":\"Grid\"},{\"attributes\":{},\"id\":\"1690\",\"type\":\"UnionRenderers\"},{\"attributes\":{},\"id\":\"1621\",\"type\":\"SaveTool\"},{\"attributes\":{\"callback\":null},\"id\":\"1602\",\"type\":\"DataRange1d\"},{\"attributes\":{},\"id\":\"1618\",\"type\":\"PanTool\"},{\"attributes\":{\"ticker\":{\"id\":\"1609\",\"type\":\"BasicTicker\"}},\"id\":\"1612\",\"type\":\"Grid\"},{\"attributes\":{},\"id\":\"1614\",\"type\":\"BasicTicker\"},{\"attributes\":{\"data_source\":{\"id\":\"1631\",\"type\":\"ColumnDataSource\"},\"glyph\":{\"id\":\"1632\",\"type\":\"Line\"},\"hover_glyph\":null,\"muted_glyph\":null,\"nonselection_glyph\":{\"id\":\"1633\",\"type\":\"Line\"},\"selection_glyph\":null,\"view\":{\"id\":\"1635\",\"type\":\"CDSView\"}},\"id\":\"1634\",\"type\":\"GlyphRenderer\"},{\"attributes\":{},\"id\":\"1623\",\"type\":\"HelpTool\"},{\"attributes\":{},\"id\":\"1604\",\"type\":\"LinearScale\"},{\"attributes\":{},\"id\":\"1622\",\"type\":\"ResetTool\"},{\"attributes\":{\"callback\":null,\"data\":{\"x\":[0,1,2,3,4,5,6,7,8,9,10,11,12,13,14,15,16,17,18,19,20,21,22,23,24,25,26,27,28,29,30,31,32,33,34,35,36,37,38,39,40,41,42,43,44,45,46,47,48,49,50,51,52,53,54,55,56,57,58,59,60,61,62,63,64,65,66,67,68,69,70,71,72,73,74,75,76,77,78,79,80,81,82,83,84,85,86,87,88,89,90,91,92,93,94,95,96,97,98,99,100,101,102,103,104,105,106,107,108,109,110,111,112,113,114,115,116,117,118,119,120,121,122,123,124,125,126,127,128,129,130,131,132,133,134,135,136,137,138,139,140,141,142,143,144,145,146,147,148,149,150,151,152,153,154,155,156,157,158,159,160,161,162,163,164,165,166,167,168,169,170,171,172,173,174,175,176,177,178,179,180,181,182,183,184,185,186,187,188,189,190,191,192,193,194,195,196,197,198,199,200,201,202,203,204,205,206,207,208,209,210,211,212,213,214,215,216,217,218,219,220,221,222,223,224,225,226,227,228,229,230,231,232,233,234,235,236,237,238,239,240,241,242,243,244,245,246,247,248,249,250,251,252,253,254,255,256,257,258,259,260],\"y\":[18892,39449,20145,20623,1177,119607,20783,48055,28993,51876,6562,201,50646,40271,39843,33521,8363,58166,26614,45373,34134,154697,125874,35995,90524,40687,210799,110244,5535,13245,2707,73725,55067,3353,9540,18732,38364,1607,3491,5307,91558,9889,16280,12221,22050,27102,81477,5460,5927,6803,18551,8944,39156,146344,5438,18077,11716,15594,11182,1008,200703,73610,53737,37504,58135,104357,27952,86529,29370,25113,10178,10787,48407,32703,24336,12829,59604,51018,7761,27403,56685,119856,3398,34613,28790,7867,37332,145000,47428,48495,115582,509,11593,60540,27168,78098,5854,12756,5843,9341,722,8241,2386,32046,6199,62777,191666,55087,14691,33649,47784,97165,8045,15521,8586,64998,41414,97537,7335,156643,231176,28637,1593,69303,159286,3004,33003,2334,2497,13762,639,38758,25466,19327,22096,21356,46602,32753,48049,27747,661,140357,9130,22087,56971,51783,26277,26972,11754,34480,45918,1257,25596,92480,36511,36293,38262,51070,84212,50295,94138,72884,35368,98360,77739,129372,58195,8731,22485,30690,14892,4376,393,9381,43066,1752,63418,196205,92844,34478,16390,12222,43952,72096,7985,20437,78608,9731,97547,30735,25979,17848,108576,85636,22094,58714,14170,8852,31372,56893,167202,27630,33143,95996,34946,110903,85943,100089,85622,32929,44437,8305,32431,3159,217642,73459,38906,146336,24701,22576,74526,10211,46760,80603,3759,4915,61150,192518,192796,240763,81855,98806,233720,5388,78193,183227,1895,20517,193067,118896,2139,17930,174794,133029,57547,94095,23682,114892,12075,10654,15886,13269,11197,18222,6858,49286,29670,160904,60290,74374,79865]},\"selected\":{\"id\":\"1689\",\"type\":\"Selection\"},\"selection_policy\":{\"id\":\"1690\",\"type\":\"UnionRenderers\"}},\"id\":\"1631\",\"type\":\"ColumnDataSource\"},{\"attributes\":{\"line_color\":\"#cd2626\",\"x\":{\"field\":\"x\"},\"y\":{\"field\":\"y\"}},\"id\":\"1632\",\"type\":\"Line\"},{\"attributes\":{\"text\":\"cantidad de tweets menos 5 maximos\"},\"id\":\"1598\",\"type\":\"Title\"}],\"root_ids\":[\"1597\"]},\"title\":\"Bokeh Application\",\"version\":\"1.1.0\"}};\n",
       "  var render_items = [{\"docid\":\"9c396985-2627-4d3d-a6fe-d5f7ad7ab062\",\"roots\":{\"1597\":\"1149ff33-596e-4746-91c4-4475311fb7d9\"}}];\n",
       "  root.Bokeh.embed.embed_items_notebook(docs_json, render_items);\n",
       "\n",
       "  }\n",
       "  if (root.Bokeh !== undefined) {\n",
       "    embed_document(root);\n",
       "  } else {\n",
       "    var attempts = 0;\n",
       "    var timer = setInterval(function(root) {\n",
       "      if (root.Bokeh !== undefined) {\n",
       "        embed_document(root);\n",
       "        clearInterval(timer);\n",
       "      }\n",
       "      attempts++;\n",
       "      if (attempts > 100) {\n",
       "        console.log(\"Bokeh: ERROR: Unable to run BokehJS code because BokehJS library is missing\");\n",
       "        clearInterval(timer);\n",
       "      }\n",
       "    }, 10, root)\n",
       "  }\n",
       "})(window);"
      ],
      "application/vnd.bokehjs_exec.v0+json": ""
     },
     "metadata": {
      "application/vnd.bokehjs_exec.v0+json": {
       "id": "1597"
      }
     },
     "output_type": "display_data"
    }
   ],
   "source": [
    "lista_tweets_aux_1 = lista_cant_tweets.copy()\n",
    "for i in range(1,5):\n",
    "    lista_tweets_aux_1.remove(max(lista_tweets_aux_1))\n",
    "\n",
    "lista = lista_tweets_aux_1\n",
    "\n",
    "\n",
    "grafico = figure(plot_width=700, \n",
    "           plot_height=350, \n",
    "           title='cantidad de tweets menos 5 maximos', \n",
    "           background_fill_color=\"#f2f3f7\", \n",
    "           y_axis_label='cant tweets')\n",
    "\n",
    "grafico.line(list(range(0,len(lista))), lista,line_color='#cd2626', legend='Puntaje')\n",
    "\n",
    "\n",
    "show(grafico)"
   ]
  },
  {
   "cell_type": "code",
   "execution_count": null,
   "metadata": {},
   "outputs": [],
   "source": []
  }
 ],
 "metadata": {
  "kernelspec": {
   "display_name": "Python 3",
   "language": "python",
   "name": "python3"
  },
  "language_info": {
   "codemirror_mode": {
    "name": "ipython",
    "version": 3
   },
   "file_extension": ".py",
   "mimetype": "text/x-python",
   "name": "python",
   "nbconvert_exporter": "python",
   "pygments_lexer": "ipython3",
   "version": "3.7.3"
  }
 },
 "nbformat": 4,
 "nbformat_minor": 2
}
